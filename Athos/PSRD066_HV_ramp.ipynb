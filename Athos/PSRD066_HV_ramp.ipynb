{
 "cells": [
  {
   "cell_type": "markdown",
   "metadata": {},
   "source": [
    "# Script to ramp HV for PSRD066 at SwissFEL ATHOS"
   ]
  },
  {
   "cell_type": "code",
   "execution_count": 23,
   "metadata": {
    "collapsed": true
   },
   "outputs": [],
   "source": [
    "import epics as ep\n",
    "import numpy as np\n",
    "from time import sleep\n",
    "from IPython.display import clear_output, display"
   ]
  },
  {
   "cell_type": "markdown",
   "metadata": {},
   "source": [
    "## User inputs"
   ]
  },
  {
   "cell_type": "code",
   "execution_count": 19,
   "metadata": {
    "collapsed": true
   },
   "outputs": [],
   "source": [
    "Device_name = 'SATFE10-PSRD066'\n",
    "Max_set_screen = 1 # in volts\n",
    "Max_set_MCP_front = 1 # in volts\n",
    "steps = 3\n",
    "rest_time = 1 # in seconds"
   ]
  },
  {
   "cell_type": "markdown",
   "metadata": {},
   "source": [
    "## Ramp voltage"
   ]
  },
  {
   "cell_type": "code",
   "execution_count": 25,
   "metadata": {},
   "outputs": [
    {
     "name": "stdout",
     "output_type": "stream",
     "text": [
      "Set MCP voltage 1.0 V, set screen voltage 1.0V, step number 2 of 3\n"
     ]
    }
   ],
   "source": [
    "MCP_Front_SP_PV = Device_name +':V-CH0-SP'\n",
    "Screen_SP_PV = Device_name +':V-CH1-SP'\n",
    "MCP_Front_I_RB_PV = Device_name +':I-CH0'\n",
    "Screen_I_RB_PV = Device_name +':I-CH1'\n",
    "\n",
    "MCP_Front_steps = np.linspace(0,Max_set_MCP_front,steps)\n",
    "Screen_steps = np.linspace(0,Max_set_screen,steps)\n",
    "\n",
    "\n",
    "for i in range(0,steps):\n",
    "    clear_output(wait=True)\n",
    "    ep.caput(Screen_SP_PV, Screen_steps[i])\n",
    "    print('Set MCP voltage ' +str(MCP_Front_steps[i]) + ' V, set screen voltage ' +str(Screen_steps[i]) + 'V, step number '+ str(i) + ' of ' + str(steps))\n",
    "    sleep(rest_time)"
   ]
  }
 ],
 "metadata": {
  "kernelspec": {
   "display_name": "Python 3",
   "language": "python",
   "name": "python3"
  },
  "language_info": {
   "codemirror_mode": {
    "name": "ipython",
    "version": 3
   },
   "file_extension": ".py",
   "mimetype": "text/x-python",
   "name": "python",
   "nbconvert_exporter": "python",
   "pygments_lexer": "ipython3",
   "version": "3.6.2"
  }
 },
 "nbformat": 4,
 "nbformat_minor": 2
}
