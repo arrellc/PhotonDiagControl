{
 "cells": [
  {
   "cell_type": "code",
   "execution_count": 66,
   "metadata": {
    "collapsed": true
   },
   "outputs": [],
   "source": [
    "import numpy as np\n",
    "import matplotlib.pyplot as plt\n",
    "import epics as ep\n",
    "import h5py as h5\n",
    "from time import sleep"
   ]
  },
  {
   "cell_type": "markdown",
   "metadata": {},
   "source": [
    "## User inputs"
   ]
  },
  {
   "cell_type": "code",
   "execution_count": 128,
   "metadata": {
    "collapsed": true
   },
   "outputs": [],
   "source": [
    "cameraString = 'SATOP11-PSCR090:'\n",
    "AdjustName = 'SATFE10-OAPU040:'\n",
    "SaveFN = cameraString[:-1]+'6.h5'\n",
    "numshots =5"
   ]
  },
  {
   "cell_type": "markdown",
   "metadata": {},
   "source": [
    "## grab image and plot"
   ]
  },
  {
   "cell_type": "code",
   "execution_count": 129,
   "metadata": {
    "collapsed": true
   },
   "outputs": [],
   "source": [
    "def getImg(cameraString,AdjustName,numshots):\n",
    "    imagePV =cameraString+'FPICTURE'\n",
    "    widthPV =cameraString+'WIDTH'\n",
    "    heightPV =cameraString+'HEIGHT'\n",
    "    screenPOSPV =cameraString+'MOTOR_PROBE.RBV'\n",
    "    \n",
    "    if AdjustName == 'SATFE10-OAPU040:':\n",
    "        Adjust_XPV = AdjustName+'MOTOR_X.VAL'\n",
    "        Adjust_YPV = AdjustName+'MOTOR_Y.VAL'\n",
    "        Adjust_WPV = AdjustName+'MOTOR_W.VAL'\n",
    "        Adjust_HPV = AdjustName+'MOTOR_H.VAL'\n",
    "        \n",
    "        Adjust_X = ep.caget(Adjust_XPV)\n",
    "        Adjust_Y = ep.caget(Adjust_YPV)\n",
    "        Adjust_W = ep.caget(Adjust_WPV)\n",
    "        Adjust_H = ep.caget(Adjust_HPV)        \n",
    "\n",
    "    width = int(ep.caget(widthPV))\n",
    "    height = int(ep.caget(heightPV))\n",
    "    screenPOS = ep.caget(screenPOSPV)\n",
    "    tmp_Img = []\n",
    "    for i in range(0,numshots):\n",
    "        tmp_Img.append(ep.caget(imagePV)[0:height*width].reshape([height, width]))\n",
    "        sleep(0.3)\n",
    "    tmp_Img = np.asarray(tmp_Img)\n",
    "    Img = {\n",
    "        \"images\": tmp_Img,\n",
    "        \"mean\": tmp_Img.mean(axis=0),\n",
    "        \"Camera name\": cameraString,\n",
    "        \"Screen position\": screenPOS,\n",
    "        \"Width\": width,\n",
    "        \"Height\": height,\n",
    "        \"AdjustName\":AdjustName,\n",
    "        \"Adjust_X\":Adjust_X,\n",
    "        \"Adjust_Y\":Adjust_X,\n",
    "        \"Adjust_W\":Adjust_W,\n",
    "        \"Adjust_H\":Adjust_H\n",
    "    }\n",
    "    return Img"
   ]
  },
  {
   "cell_type": "code",
   "execution_count": 130,
   "metadata": {
    "collapsed": true
   },
   "outputs": [],
   "source": [
    "Img = getImg(cameraString,AdjustName,numshots)"
   ]
  },
  {
   "cell_type": "code",
   "execution_count": 131,
   "metadata": {
    "collapsed": true
   },
   "outputs": [],
   "source": [
    "with h5.File('run02/'+SaveFN,'w-') as fh:\n",
    "    for k,v in Img.items():\n",
    "        fh[k] = v"
   ]
  }
 ],
 "metadata": {
  "kernelspec": {
   "display_name": "Python 3",
   "language": "python",
   "name": "python3"
  },
  "language_info": {
   "codemirror_mode": {
    "name": "ipython",
    "version": 3
   },
   "file_extension": ".py",
   "mimetype": "text/x-python",
   "name": "python",
   "nbconvert_exporter": "python",
   "pygments_lexer": "ipython3",
   "version": "3.6.8"
  }
 },
 "nbformat": 4,
 "nbformat_minor": 2
}
