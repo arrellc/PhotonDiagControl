{
 "cells": [
  {
   "cell_type": "markdown",
   "metadata": {},
   "source": [
    "# Script to scan K gap in Athos"
   ]
  },
  {
   "cell_type": "code",
   "execution_count": 13,
   "metadata": {},
   "outputs": [],
   "source": [
    "import epics as ep\n",
    "import h5py as h5\n",
    "import numpy as np\n",
    "import matplotlib.pyplot as plt\n",
    "from time import sleep\n",
    "from IPython.display import clear_output, display"
   ]
  },
  {
   "cell_type": "markdown",
   "metadata": {},
   "source": [
    "## User inputs"
   ]
  },
  {
   "cell_type": "code",
   "execution_count": 29,
   "metadata": {
    "collapsed": true
   },
   "outputs": [],
   "source": [
    "Gap_set_PV = \"SATUN21-UIND030:K_SET\"\n",
    "detector = \"SATFE10-LSCP2-FNS:CH3:VAL_GET\"\n",
    "k_from = 0.9\n",
    "k_to = 2.8\n",
    "steps = 15\n",
    "shots = 100\n",
    "fN = 'Fe_filter.h5'"
   ]
  },
  {
   "cell_type": "markdown",
   "metadata": {},
   "source": [
    "## Scan"
   ]
  },
  {
   "cell_type": "code",
   "execution_count": null,
   "metadata": {},
   "outputs": [
    {
     "name": "stdout",
     "output_type": "stream",
     "text": [
      "Gap set 1.0357142857142858, step 1 of15\n"
     ]
    }
   ],
   "source": [
    "k_set = np.linspace(k_from, k_to, steps)\n",
    "Data = []\n",
    "for i in range(0, steps):\n",
    "    ep.caput(Gap_set_PV, k_set[i])\n",
    "    clear_output(wait=True)    \n",
    "    print('Gap set '+ str(k_set[i])+ ', step '+ str(i)+ ' of'+ str(steps))\n",
    "    sleep(10)\n",
    "    tmp_data = []\n",
    "    for j in range(0,shots):\n",
    "        tmp_data.append(ep.caget(detector))\n",
    "        sleep(1)\n",
    "    Data.append(tmp_data)\n"
   ]
  },
  {
   "cell_type": "code",
   "execution_count": 20,
   "metadata": {
    "collapsed": true
   },
   "outputs": [],
   "source": [
    "Data = np.asarray(Data)"
   ]
  },
  {
   "cell_type": "code",
   "execution_count": 27,
   "metadata": {},
   "outputs": [
    {
     "data": {
      "text/plain": [
       "<Container object of 3 artists>"
      ]
     },
     "execution_count": 27,
     "metadata": {},
     "output_type": "execute_result"
    },
    {
     "data": {
      "image/png": "[encoded data removed]",
      "text/plain": [
       "<matplotlib.figure.Figure at 0x7f754962eba8>"
      ]
     },
     "metadata": {},
     "output_type": "display_data"
    }
   ],
   "source": [
    "plt.figure()\n",
    "plt.errorbar(k_set, Data.mean(axis=0), Data.std(axis=0), label = detector)\n",
    "plt.xlabel('K set')\n",
    "plt.ylabel('Intensity [arb]')\n",
    "plt.legend()\n",
    "plt.grid(True)\n",
    "plt.title(Gap_set_PV)"
   ]
  },
  {
   "cell_type": "markdown",
   "metadata": {},
   "source": [
    "## Save Data"
   ]
  },
  {
   "cell_type": "code",
   "execution_count": 25,
   "metadata": {},
   "outputs": [],
   "source": [
    "DataOut = {\n",
    "        \"Gap_set_PV\": Gap_set_PV,\n",
    "        \"detector\": detector,\n",
    "        \"k_from\":k_from,\n",
    "        \"k_to\":k_to,\n",
    "        \"Data\": Data\n",
    "}"
   ]
  },
  {
   "cell_type": "code",
   "execution_count": 26,
   "metadata": {
    "collapsed": true
   },
   "outputs": [],
   "source": [
    "with h5.File(fN,'w-') as fh:\n",
    "    for k,v in DataOut.items():\n",
    "        fh[k] = v"
   ]
  }
 ],
 "metadata": {
  "kernelspec": {
   "display_name": "Python 3",
   "language": "python",
   "name": "python3"
  },
  "language_info": {
   "codemirror_mode": {
    "name": "ipython",
    "version": 3
   },
   "file_extension": ".py",
   "mimetype": "text/x-python",
   "name": "python",
   "nbconvert_exporter": "python",
   "pygments_lexer": "ipython3",
   "version": "3.6.2"
  }
 },
 "nbformat": 4,
 "nbformat_minor": 2
}
