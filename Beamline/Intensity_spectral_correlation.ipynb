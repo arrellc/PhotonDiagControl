{
 "cells": [
  {
   "cell_type": "code",
   "execution_count": 1,
   "metadata": {},
   "outputs": [],
   "source": [
    "%matplotlib inline\n",
    "import matplotlib.pyplot as plt\n",
    "from bsread import source\n",
    "import numpy as np\n",
    "from scipy.signal import savgol_filter\n",
    "from scipy.optimize import curve_fit"
   ]
  },
  {
   "cell_type": "code",
   "execution_count": 2,
   "metadata": {},
   "outputs": [],
   "source": [
    "def pearson_1D_horiz(spectra, I0):\n",
    "    Pearsons1D_horiz_raw = np.zeros((spectra.shape[1]))\n",
    "    for i in range(0,spectra.shape[1]):\n",
    "        coeff = np.corrcoef(spectra[:,i],I0)[0,1]        \n",
    "        Pearsons1D_horiz_raw[i]= coeff\n",
    "    return Pearsons1D_horiz_raw\n",
    "\n",
    "def Spectra_bin_I0(I0, I0_axis, spectra):\n",
    "    digi = np.digitize(I0, I0_axis)   \n",
    "    Spec_binned = []\n",
    "    for i in range(0,len(I0_axis)):\n",
    "        ind = digi==i+1\n",
    "        Spec_binned.append(spectra[ind,:].mean(axis=0))\n",
    "    return np.asarray(Spec_binned)\n",
    "\n",
    "def prepData(spectra, PBPS053,e_axis,pulseID_shift):\n",
    "    spectra = spectra[pulseID_shift:]\n",
    "    e_axis = e_axis[pulseID_shift:]\n",
    "    PBPS053 = PBPS053[:-pulseID_shift]\n",
    "    \n",
    "    allData = np.array([spectra, PBPS053,e_axis])\n",
    "    indexNone = np.array([np.any(np.hstack(s) == None) for s in allData.T])\n",
    "    spectra_out = []\n",
    "    for s in spectra[~indexNone]:\n",
    "        spectra_out.append(s[:])\n",
    "    return(np.array(spectra_out), PBPS053[~indexNone],e_axis[~indexNone][0])"
   ]
  },
  {
   "cell_type": "markdown",
   "metadata": {},
   "source": [
    "## User inputs"
   ]
  },
  {
   "cell_type": "code",
   "execution_count": 70,
   "metadata": {},
   "outputs": [],
   "source": [
    "channels = ['SARFE10-PSSS059:SPECTRUM_X','SARFE10-PSSS059:SPECTRUM_Y','SARFE10-PBPS053:INTENSITY']\n",
    "# channels = ['SARFE10-PSSS059:SPECTRUM_X','SARFE10-PSSS059:SPECTRUM_Y','SARFE10-CVME-PHO6212:intensity']\n",
    "\n",
    "numShots =10000"
   ]
  },
  {
   "cell_type": "code",
   "execution_count": 116,
   "metadata": {},
   "outputs": [],
   "source": [
    "import data_api as api\n",
    "import datetime\n",
    "channels = ['SARFE10-PSSS059:SPECTRUM_X','SARFE10-PSSS059:SPECTRUM_Y','SARFE10-PBPS053:INTENSITY']\n"
   ]
  },
  {
   "cell_type": "code",
   "execution_count": 203,
   "metadata": {},
   "outputs": [
    {
     "data": {
      "text/plain": [
       "datetime.datetime(2021, 8, 30, 7, 59, 6, 298838)"
      ]
     },
     "execution_count": 203,
     "metadata": {},
     "output_type": "execute_result"
    }
   ],
   "source": [
    "now"
   ]
  },
  {
   "cell_type": "code",
   "execution_count": 201,
   "metadata": {},
   "outputs": [
    {
     "name": "stderr",
     "output_type": "stream",
     "text": [
      "INFO:DataApiClient:Querying channels: ['SARFE10-PSSS059:SPECTRUM_X', 'SARFE10-PSSS059:SPECTRUM_Y', 'SARFE10-PBPS053:INTENSITY']\n",
      "INFO:DataApiClient:Querying on globalDate between 2021-08-30 07:58:05.298838 and 2021-08-30 07:58:06.298838\n"
     ]
    }
   ],
   "source": [
    "now = datetime.datetime.now()\n",
    "end = now-datetime.timedelta(minutes=1)\n",
    "start = end-datetime.timedelta(seconds=1)\n",
    "data = api.get_data(channels=channels, start=start, end=end)"
   ]
  },
  {
   "cell_type": "code",
   "execution_count": 202,
   "metadata": {
    "scrolled": false
   },
   "outputs": [
    {
     "name": "stdout",
     "output_type": "stream",
     "text": [
      "PBPS053 rate nans: 0.422\n",
      "PSSS rate nans: 0.578\n"
     ]
    }
   ],
   "source": [
    "# rate of nans\n",
    "PBPS053_rate = data[channels[2]].isna().sum()/data[channels[2]].shape\n",
    "PSSS_rate = data[channels[1]].isna().sum()/data[channels[1]].shape\n",
    "print('PBPS053 rate nans: %.3f'%PBPS053_rate)\n",
    "print('PSSS rate nans: %.3f'%PSSS_rate)"
   ]
  },
  {
   "cell_type": "code",
   "execution_count": 179,
   "metadata": {},
   "outputs": [
    {
     "name": "stderr",
     "output_type": "stream",
     "text": [
      "WARNING:bsread.data.helpers:'type' channel field not found. Parse as 64-bit floating-point number float64 (default).\n",
      "WARNING:bsread.data.helpers:'type' channel field not found. Parse as 64-bit floating-point number float64 (default).\n"
     ]
    }
   ],
   "source": [
    "from bsread import source\n",
    "channels = ['SARFE10-PSSS059:SPECTRUM_X','SARFE10-PSSS059:SPECTRUM_Y','SARFE10-PBPS053:INTENSITY']\n",
    "numShots =1000\n",
    "\n",
    "e_axis = []\n",
    "spectra = []\n",
    "PBPS053 = []\n",
    "\n",
    "with source(channels=channels) as stream:\n",
    "    for i in range(numShots):\n",
    "        message = stream.receive()\n",
    "        e_axis.append(message.data.data[channels[0]].value)\n",
    "        spectra.append(message.data.data[channels[1]].value)\n",
    "        PBPS053.append(message.data.data[channels[2]].value)\n",
    "        \n",
    "spectra = np.array(spectra)\n",
    "e_axis = np.array(e_axis)\n",
    "PBPS053 = np.array(PBPS053)"
   ]
  },
  {
   "cell_type": "code",
   "execution_count": 180,
   "metadata": {},
   "outputs": [
    {
     "name": "stdout",
     "output_type": "stream",
     "text": [
      "PBPS053 rate nans: 0.384\n",
      "PSSS rate nans: 0.478\n"
     ]
    }
   ],
   "source": [
    "PBPS053_rate = len(PBPS053[PBPS053 ==None])/len(PBPS053)\n",
    "PSSS_rate = sum([np.any(s == None) for s in spectra])/len(spectra)\n",
    "print('PBPS053 rate nans: %.3f'%PBPS053_rate)\n",
    "print('PSSS rate nans: %.3f'%PSSS_rate)"
   ]
  },
  {
   "cell_type": "code",
   "execution_count": 83,
   "metadata": {},
   "outputs": [
    {
     "name": "stderr",
     "output_type": "stream",
     "text": [
      "WARNING:bsread.data.helpers:'type' channel field not found. Parse as 64-bit floating-point number float64 (default).\n",
      "WARNING:bsread.data.helpers:'type' channel field not found. Parse as 64-bit floating-point number float64 (default).\n"
     ]
    }
   ],
   "source": [
    "channels = ['SARFE10-PSSS059:SPECTRUM_X','SARFE10-PSSS059:SPECTRUM_Y','SARFE10-PBPS053:INTENSITY']\n",
    "numShots =1000\n",
    "\n",
    "e_axis = []\n",
    "spectra = []\n",
    "PBPS053 = []\n",
    "\n",
    "with source(channels=channels) as stream:\n",
    "    for i in range(numShots):\n",
    "        message = stream.receive()\n",
    "        e_axis.append(message.data.data[channels[0]].value)\n",
    "        spectra.append(message.data.data[channels[1]].value)\n",
    "        PBPS053.append(message.data.data[channels[2]].value)\n",
    "        \n",
    "spectra_raw = np.array(spectra)\n",
    "e_axis = np.array(e_axis)\n",
    "PBPS053_raw = np.array(PBPS053)\n",
    "# spectra = np.asarray(spectra)\n",
    "# PBPS053 = np.asarray(PBPS053)\n",
    "\n",
    "spectra, PBPS053, e_axis = prepData(np.array(spectra), np.array(PBPS053), np.array(e_axis),1)"
   ]
  },
  {
   "cell_type": "code",
   "execution_count": 33,
   "metadata": {
    "scrolled": false
   },
   "outputs": [
    {
     "name": "stderr",
     "output_type": "stream",
     "text": [
      "/sf/photo/miniconda/lib/python3.6/site-packages/ipykernel_launcher.py:13: RuntimeWarning: Mean of empty slice.\n",
      "  del sys.path[0]\n"
     ]
    }
   ],
   "source": [
    "Pearsons1D_horiz_raw = pearson_1D_horiz(spectra,PBPS053.astype(float))\n",
    "PBPS053_bin = np.linspace(0.55, 0.95,10)\n",
    "SpectraBined = Spectra_bin_I0(PBPS053, PBPS053_bin, spectra)"
   ]
  },
  {
   "cell_type": "code",
   "execution_count": 81,
   "metadata": {},
   "outputs": [
    {
     "data": {
      "text/plain": [
       "array([array([2098, 1687, 2069, ..., 1896, 1848, 1977], dtype=uint32),\n",
       "       array([1984, 1640, 2021, ..., 1778, 1850, 1861], dtype=uint32),\n",
       "       array([2157, 1714, 2032, ..., 1846, 1830, 2019], dtype=uint32),\n",
       "       ..., None, None, None], dtype=object)"
      ]
     },
     "execution_count": 81,
     "metadata": {},
     "output_type": "execute_result"
    }
   ],
   "source": [
    "spectra_raw"
   ]
  },
  {
   "cell_type": "code",
   "execution_count": 82,
   "metadata": {},
   "outputs": [
    {
     "ename": "ValueError",
     "evalue": "The truth value of an array with more than one element is ambiguous. Use a.any() or a.all()",
     "output_type": "error",
     "traceback": [
      "\u001b[0;31m---------------------------------------------------------------------------\u001b[0m",
      "\u001b[0;31mValueError\u001b[0m                                Traceback (most recent call last)",
      "\u001b[0;32m<ipython-input-82-c0ffd6a560a3>\u001b[0m in \u001b[0;36m<module>\u001b[0;34m\u001b[0m\n\u001b[1;32m      1\u001b[0m \u001b[0;32mfor\u001b[0m \u001b[0mi\u001b[0m \u001b[0;32min\u001b[0m \u001b[0mspectra_raw\u001b[0m\u001b[0;34m:\u001b[0m\u001b[0;34m\u001b[0m\u001b[0;34m\u001b[0m\u001b[0m\n\u001b[0;32m----> 2\u001b[0;31m     \u001b[0;32mif\u001b[0m \u001b[0mi\u001b[0m \u001b[0;34m==\u001b[0m \u001b[0;32mNone\u001b[0m\u001b[0;34m:\u001b[0m\u001b[0;34m\u001b[0m\u001b[0;34m\u001b[0m\u001b[0m\n\u001b[0m\u001b[1;32m      3\u001b[0m         \u001b[0mprint\u001b[0m\u001b[0;34m(\u001b[0m\u001b[0mi\u001b[0m\u001b[0;34m)\u001b[0m\u001b[0;34m\u001b[0m\u001b[0;34m\u001b[0m\u001b[0m\n",
      "\u001b[0;31mValueError\u001b[0m: The truth value of an array with more than one element is ambiguous. Use a.any() or a.all()"
     ]
    }
   ],
   "source": [
    "for i in spectra_raw:\n",
    "    if i == None:\n",
    "        print(i)"
   ]
  },
  {
   "cell_type": "code",
   "execution_count": 80,
   "metadata": {},
   "outputs": [
    {
     "data": {
      "text/plain": [
       "(172,)"
      ]
     },
     "execution_count": 80,
     "metadata": {},
     "output_type": "execute_result"
    }
   ],
   "source": [
    "PBPS053.shape"
   ]
  },
  {
   "cell_type": "code",
   "execution_count": null,
   "metadata": {},
   "outputs": [],
   "source": [
    "plt.figure(figsize=[15,10])\n",
    "plt.suptitle('FEL spectrum and intensity correlation')\n",
    "plt.subplot(221)\n",
    "plt.title(\"Spectrum correlation with PBPS\")\n",
    "plt.plot(e_axis, Pearsons1D_horiz_raw)\n",
    "plt.xlabel('Photon energy [eV]')\n",
    "\n",
    "plt.grid(True)\n",
    "plt.subplot(223)\n",
    "plt.plot(e_axis, SpectraBined[0,:], label = 'I0 %.2f%%'%PBPS053_bin[0])\n",
    "plt.plot(e_axis, SpectraBined[-1,:], label = 'I0 %.2f%%'%PBPS053_bin[-1])\n",
    "plt.plot(e_axis, SpectraBined[int(len(PBPS053_bin)/2),:], label = 'I0 %.2f%%'%PBPS053_bin[int(len(PBPS053_bin)/2)])\n",
    "plt.xlabel('Photon energy [eV]')\n",
    "\n",
    "plt.grid(True)\n",
    "plt.legend()\n",
    "plt.subplot(122)\n",
    "plt.pcolormesh(e_axis,PBPS053_bin,SpectraBined, cmap ='CMRmap')\n",
    "plt.ylabel('I0 (PBPS053)')\n",
    "plt.xlabel('Photon energy [eV]')\n"
   ]
  }
 ],
 "metadata": {
  "kernelspec": {
   "display_name": "Python 3",
   "language": "python",
   "name": "python3"
  },
  "language_info": {
   "codemirror_mode": {
    "name": "ipython",
    "version": 3
   },
   "file_extension": ".py",
   "mimetype": "text/x-python",
   "name": "python",
   "nbconvert_exporter": "python",
   "pygments_lexer": "ipython3",
   "version": "3.6.8"
  }
 },
 "nbformat": 4,
 "nbformat_minor": 2
}
