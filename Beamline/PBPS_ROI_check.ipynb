{
 "cells": [
  {
   "cell_type": "markdown",
   "metadata": {},
   "source": [
    "# Script to check the setting of ROIs on Ioxos PBPS\n",
    "### Purpose:\n",
    "To record the noise for different ROI windows on Ioxos PBPS (currently only PBPS133 Bernina)\n",
    "Contact christopher.arrell@psi.ch"
   ]
  },
  {
   "cell_type": "code",
   "execution_count": 2,
   "metadata": {
    "collapsed": true
   },
   "outputs": [],
   "source": [
    "import epics as ep\n",
    "import numpy as np\n",
    "import matplotlib.pyplot as plt\n",
    "from time import sleep\n",
    "from bsread import source\n",
    "from IPython.display import clear_output, display\n",
    "%matplotlib inline"
   ]
  },
  {
   "cell_type": "markdown",
   "metadata": {},
   "source": [
    "## Setup and functions setup"
   ]
  },
  {
   "cell_type": "code",
   "execution_count": 3,
   "metadata": {
    "collapsed": true
   },
   "outputs": [],
   "source": [
    "channels = ['SLAAR21-LSCP1-FNS:CH4:VAL_GET','SLAAR21-LSCP1-FNS:CH5:VAL_GET','SLAAR21-LSCP1-FNS:CH6:VAL_GET','SLAAR21-LSCP1-FNS:CH7:VAL_GET']\n",
    "\n",
    "sig_bstart = ['SLAAR21-LSCP1-FNS:CH4:BSTART','SLAAR21-LSCP1-FNS:CH5:BSTART','SLAAR21-LSCP1-FNS:CH6:BSTART','SLAAR21-LSCP1-FNS:CH7:BSTART']\n",
    "sig_bend = ['SLAAR21-LSCP1-FNS:CH4:BEND','SLAAR21-LSCP1-FNS:CH5:BEND','SLAAR21-LSCP1-FNS:CH6:BEND','SLAAR21-LSCP1-FNS:CH7:BEND']\n",
    "sig_start = ['SLAAR21-LSCP1-FNS:CH4:START','SLAAR21-LSCP1-FNS:CH5:START','SLAAR21-LSCP1-FNS:CH6:START','SLAAR21-LSCP1-FNS:CH7:START']\n",
    "sig_end = ['SLAAR21-LSCP1-FNS:CH4:END','SLAAR21-LSCP1-FNS:CH5:END','SLAAR21-LSCP1-FNS:CH6:END','SLAAR21-LSCP1-FNS:CH7:END']\n",
    "\n",
    "def write_PV(names,val):\n",
    "    for name in names:\n",
    "        ep.caput(name,val)\n",
    "def get_correlation(channels,numShots):\n",
    "    with source(channels=channels) as stream:\n",
    "        d_r = []\n",
    "        d_l = []\n",
    "        d_d = []\n",
    "        d_u = []\n",
    "        for i in range(0,numShots):\n",
    "            message = stream.receive()\n",
    "            d_r.append(message.data.data[channels[0]].value)\n",
    "            d_l.append(message.data.data[channels[1]].value)\n",
    "            d_d.append(message.data.data[channels[2]].value)\n",
    "            d_u.append(message.data.data[channels[3]].value)\n",
    "        return((np.corrcoef((np.asarray(d_r)+np.asarray(d_l))/2, (np.asarray(d_u)+np.asarray(d_d))/2))[1][0])"
   ]
  },
  {
   "cell_type": "code",
   "execution_count": 21,
   "metadata": {},
   "outputs": [],
   "source": [
    "write_PV(sig_start,240)"
   ]
  },
  {
   "cell_type": "markdown",
   "metadata": {},
   "source": [
    "## User inputs"
   ]
  },
  {
   "cell_type": "code",
   "execution_count": 22,
   "metadata": {
    "collapsed": true
   },
   "outputs": [],
   "source": [
    "numShots = 1000\n",
    "scan_range = np.arange(240,300,1)"
   ]
  },
  {
   "cell_type": "markdown",
   "metadata": {},
   "source": [
    "## Scan and measure"
   ]
  },
  {
   "cell_type": "code",
   "execution_count": 23,
   "metadata": {},
   "outputs": [
    {
     "name": "stderr",
     "output_type": "stream",
     "text": [
      "WARNING:bsread.data.helpers:'type' channel field not found. Parse as 64-bit floating-point number float64 (default).\n",
      "WARNING:bsread.data.helpers:'type' channel field not found. Parse as 64-bit floating-point number float64 (default).\n",
      "WARNING:bsread.data.helpers:'type' channel field not found. Parse as 64-bit floating-point number float64 (default).\n",
      "WARNING:bsread.data.helpers:'type' channel field not found. Parse as 64-bit floating-point number float64 (default).\n"
     ]
    }
   ],
   "source": [
    "correlation = []\n",
    "for step in scan_range:\n",
    "    write_PV(sig_end,step)\n",
    "    sleep(1)\n",
    "    try:\n",
    "        correlation.append(get_correlation(channels, numShots))\n",
    "    except:\n",
    "        correlation.append(np.nan)\n",
    "    clear_output(wait=True)\n",
    "correlation = np.asarray(correlation)"
   ]
  },
  {
   "cell_type": "code",
   "execution_count": 27,
   "metadata": {},
   "outputs": [
    {
     "data": {
      "image/png": "[encoded data removed]",
      "text/plain": [
       "<matplotlib.figure.Figure at 0x7f1841369208>"
      ]
     },
     "metadata": {},
     "output_type": "display_data"
    }
   ],
   "source": [
    "plt.figure()\n",
    "plt.plot(scan_range[6:-1], correlation[6:-1],'.')\n",
    "plt.ylabel('Pearson\\'s correlation')\n",
    "plt.xlabel('Signal end value')\n",
    "plt.title(\"PBPS133 (Signal-Back(Avg))\")\n",
    "plt.grid(True)"
   ]
  }
 ],
 "metadata": {
  "kernelspec": {
   "display_name": "Python 3",
   "language": "python",
   "name": "python3"
  },
  "language_info": {
   "codemirror_mode": {
    "name": "ipython",
    "version": 3
   },
   "file_extension": ".py",
   "mimetype": "text/x-python",
   "name": "python",
   "nbconvert_exporter": "python",
   "pygments_lexer": "ipython3",
   "version": "3.5.1"
  }
 },
 "nbformat": 4,
 "nbformat_minor": 1
}
