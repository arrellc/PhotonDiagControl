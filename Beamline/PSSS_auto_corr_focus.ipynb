{
 "cells": [
  {
   "cell_type": "markdown",
   "metadata": {},
   "source": [
    "# Script to scan the PSSS camera focus position\n",
    "### Purpose:\n",
    "The detection plane of the PSSS is imaged by a screen and camera. This script will scan the camera position find the focal plane\n",
    "\n",
    "Contact christopher.arrell@psi.ch"
   ]
  },
  {
   "cell_type": "code",
   "execution_count": 1,
   "metadata": {},
   "outputs": [],
   "source": [
    "import epics as ep\n",
    "import numpy as np\n",
    "import matplotlib.pyplot as plt\n",
    "from time import sleep\n",
    "from collections import deque\n",
    "from scipy.optimize import curve_fit\n",
    "from scipy.signal import savgol_filter\n",
    "%matplotlib inline\n",
    "from IPython.display import clear_output, display"
   ]
  },
  {
   "cell_type": "markdown",
   "metadata": {},
   "source": [
    "## Setup and functions setup"
   ]
  },
  {
   "cell_type": "code",
   "execution_count": 58,
   "metadata": {},
   "outputs": [],
   "source": [
    "PSSS_FWHM_name = 'SARFE10-PSSS059:SPECTRUM_FWHM'\n",
    "PSSS_screen_z_name = 'SARFE10-PSSS059:MOTOR_Z5'\n",
    "PSSS_e_axis_name = 'SARFE10-PSSS059:SPECTRUM_X'\n",
    "PSSS_spectrum_name = 'SARFE10-PSSS059:SPECTRUM_Y'\n",
    "\n",
    "PSSS_FWHM_PV = ep.PV(PSSS_FWHM_name)\n",
    "PSSS_screen_z_PV = ep.PV(PSSS_screen_z_name)\n",
    "PSSS_spectrum_PV = ep.PV(PSSS_spectrum_name)\n",
    "PSSS_e_axis_PV = ep.PV(PSSS_e_axis_name)\n",
    "\n",
    "def set_screen_z(pos):\n",
    "    PSSS_screen_z_PV.put(pos, wait=True)\n",
    "\n",
    "def PSSS_screen_z_scan(Range, NumShots):\n",
    "        \n",
    "    screen_scan = []\n",
    "            \n",
    "    for pos in Range:\n",
    "        set_screen_z(pos)\n",
    "        sleep(2)\n",
    "           \n",
    "        Spectrum_this_energy = deque(maxlen = NumShots)\n",
    "        def on_value_change(value=None,pv = None, **kwargs):\n",
    "            Spectrum_this_energy.append(value)\n",
    "\n",
    "            if len(Spectrum_this_energy) == NumShots:\n",
    "                pv.clear_callbacks()\n",
    "                \n",
    "        PSSS_spectrum_PV.add_callback(callback=on_value_change, pv =PSSS_spectrum_PV)\n",
    "        while len(Spectrum_this_energy) < NumShots:\n",
    "            sleep(1)\n",
    "        screen_scan.append(np.array(Spectrum_this_energy))\n",
    "        \n",
    "    return(np.array(screen_scan))\n",
    "\n",
    "def gauss(x, H, A, x0, sigma):\n",
    "    return H + A * np.exp(-(x - x0) ** 2 / (2 * sigma ** 2))\n",
    "\n",
    "def bimodal(x, H_1, A_1, x0_1, sigma_1,H_2, A_2, x0_2, sigma_2):\n",
    "    return gauss(x, H_1, A_1, x0_1, sigma_1)+gauss(x, H_2, A_2, x0_2, sigma_2)\n",
    "\n",
    "def trimodal(x, H_1, A_1, x0_1, sigma_1,H_2, A_2, x0_2, sigma_2,H_3, A_3, x0_3, sigma_3):\n",
    "    if any(val <0 for val in [H_1, A_1, x0_1, sigma_1,H_2, A_2, x0_2, sigma_2,H_3, A_3, x0_3, sigma_3]):\n",
    "        return np.zeros_like(x)\n",
    "    else:\n",
    "        return gauss(x, H_1, A_1, x0_1, sigma_1)+gauss(x, H_2, A_2, x0_2, sigma_2)+gauss(x, H_3, A_3, x0_3, sigma_3)\n",
    "\n",
    "def gauss_fit(x, y):\n",
    "    mean = sum(x * y) / sum(y)\n",
    "    sigma = np.sqrt(sum(y * (x - mean) ** 2) / sum(y))\n",
    "    popt, pcov = curve_fit(gauss, x, y, p0=[min(y), max(y), mean, sigma])\n",
    "    return popt\n",
    "\n",
    "# def bimodal_fit(x, y):\n",
    "#     mean = sum(x * y) / sum(y)\n",
    "#     sigma = np.sqrt(sum(y * (x - mean) ** 2) / sum(y))\n",
    "#     print(mean, sigma)\n",
    "#     p0 = [min(y), max(y), mean, sigma/10,min(y), max(y), mean, sigma]\n",
    "#     print(p0)\n",
    "#     popt, pcov = curve_fit(bimodal, x, y, p0=p0,maxfev=1000)\n",
    "    \n",
    "#     return popt\n",
    "\n",
    "def auto_corr(e_axis, Spec):\n",
    "    correlations = np.zeros_like(Spec)\n",
    "    correlations = []\n",
    "    for i in range(0,Spec.shape[0]):\n",
    "        test = np.correlate(Spec[i,:].astype('float'),Spec[i,:].astype('float'), mode='same')\n",
    "#         correlations[i,:] = test\n",
    "        correlations.append(test)\n",
    "    lags = e_axis - e_axis[int(e_axis.size /2)]\n",
    "    correlations = np.asarray(correlations)\n",
    "#     print(correlations.shape)\n",
    "    return lags, correlations.mean(axis=0)\n",
    "\n",
    "\n",
    "def bimodal_fit(x, y):\n",
    "    mean = sum(x * y) / sum(y)\n",
    "    sigma = np.sqrt(sum(y * (x - mean) ** 2) / sum(y))\n",
    "    popt, pcov = curve_fit(bimodal, x, y, p0=[min(y), max(y)-min(y), mean, sigma,min(y), (max(y)-min(y))/100, mean, sigma/1000])\n",
    "#     popt, pcov = curve_fit(bimodal, x, y, p0=[min(y), max(y), mean, sigma, min(y), max(y), mean/10, sigma/10])\n",
    "    \n",
    "    return popt\n",
    "\n",
    "def trimodal_fit(x, y):\n",
    "    mean = sum(x * y) / sum(y)\n",
    "    sigma = np.sqrt(sum(y * (x - mean) ** 2) / sum(y))\n",
    "    popt, pcov = curve_fit(trimodal, x, y, p0=[min(y), max(y), mean, sigma,min(y), max(y), mean, sigma, min(y), max(y), mean/10, sigma/10])\n",
    "    return popt\n",
    "\n"
   ]
  },
  {
   "cell_type": "markdown",
   "metadata": {},
   "source": [
    "## User inputs - define travel range of crystal\n",
    "It is unlikely these values need to be changed"
   ]
  },
  {
   "cell_type": "code",
   "execution_count": 9,
   "metadata": {},
   "outputs": [],
   "source": [
    "screen_z_from = -0.0\n",
    "screen_z_to = 0.0\n",
    "steps = 1\n",
    "NumShots= 250\n",
    "screen_z_range = np.linspace(screen_z_from, screen_z_to, steps)"
   ]
  },
  {
   "cell_type": "markdown",
   "metadata": {},
   "source": [
    "## Scan and take data"
   ]
  },
  {
   "cell_type": "code",
   "execution_count": 10,
   "metadata": {},
   "outputs": [],
   "source": [
    "Scan_spec = PSSS_screen_z_scan(screen_z_range,NumShots)\n",
    "e_axis = PSSS_e_axis_PV.get()"
   ]
  },
  {
   "cell_type": "code",
   "execution_count": 61,
   "metadata": {},
   "outputs": [
    {
     "name": "stdout",
     "output_type": "stream",
     "text": [
      "[-1.00592066e+10  2.01242804e+10  3.98870026e-01  6.28860588e+02\n",
      " -1.00609027e+10  2.22971761e+08 -2.46974977e+02  5.11509204e-01]\n"
     ]
    },
    {
     "name": "stderr",
     "output_type": "stream",
     "text": [
      "/sf/photo/miniconda/lib/python3.6/site-packages/scipy/optimize/minpack.py:787: OptimizeWarning: Covariance of the parameters could not be estimated\n",
      "  category=OptimizeWarning)\n"
     ]
    }
   ],
   "source": [
    "peak_width = []\n",
    "spectral_width = []\n",
    "for i in range(0, len(screen_z_range)):\n",
    "    lags, mean_cor = auto_corr(e_axis,Scan_spec[i])\n",
    "    mean_cor = mean_cor - mean_cor[0:10].mean()\n",
    "    lags = lags.astype(dtype=np.float32)\n",
    "    mean_cor = mean_cor.astype(dtype=np.float32)\n",
    "    \n",
    "    popt = gauss_fit(lags, mean_cor)\n",
    "    mean_cor_zero = mean_cor - gauss(lags,*popt)\n",
    "    bpopt = bimodal_fit(lags, mean_cor)\n",
    "#     tpopt = trimodal_fit(lags, mean_cor)\n",
    "    \n",
    "    peak_width.append(2.355*bpopt[-1])\n",
    "    spectral_width.append(2.355*bpopt[3])\n",
    "print(bpopt)"
   ]
  },
  {
   "cell_type": "code",
   "execution_count": null,
   "metadata": {},
   "outputs": [],
   "source": [
    "# popt = gauss_fit(lags, mean_cor)\n",
    "# bpopt = bimodal_fit(lags, mean_cor)\n",
    "# peak_width = 2.355*bpopt[-1]\n",
    "# spectral_width = 2.355*bpopt[3]"
   ]
  },
  {
   "cell_type": "code",
   "execution_count": 62,
   "metadata": {},
   "outputs": [
    {
     "data": {
      "text/plain": [
       "<matplotlib.legend.Legend at 0x7f4f6bf8dcf8>"
      ]
     },
     "execution_count": 62,
     "metadata": {},
     "output_type": "execute_result"
    },
    {
     "data": {
      "image/png": "[encoded data removed]",
      "text/plain": [
       "<Figure size 720x360 with 1 Axes>"
      ]
     },
     "metadata": {
      "needs_background": "light"
     },
     "output_type": "display_data"
    }
   ],
   "source": [
    "plt.figure(figsize=[10,5])\n",
    "# plt.suptitle('Run: '+ run_name[-10:] +'\\nSpectal width %.2f'%spectral_width+ ' [eV], spike width %.2f'%peak_width+ ' [eV]')\n",
    "plt.subplot(121)\n",
    "plt.plot(lags,mean_cor, label ='auto correlation')\n",
    "plt.plot(lags,bimodal(lags,*bpopt), label ='bimodel fit')\n",
    "# plt.plot(lags,trimodal(lags,*tpopt), label ='bimodel fit')\n",
    "\n",
    "plt.xlabel('Energy [eV]')\n",
    "plt.grid(True)\n",
    "plt.legend()\n",
    "# plt.subplot(122)\n",
    "# plt.plot(lags,gauss(lags,*bpopt[-4:]), label ='Gauss fit')\n",
    "# plt.xlabel('Energy [eV]')\n",
    "# plt.xlim([-5*bpopt[-1],5*bpopt[-1]])\n",
    "# plt.legend()\n",
    "# plt.grid(True)\n",
    "# plt.tight_layout()"
   ]
  },
  {
   "cell_type": "code",
   "execution_count": 8,
   "metadata": {},
   "outputs": [
    {
     "data": {
      "text/plain": [
       "[<matplotlib.lines.Line2D at 0x7f4f6bea9898>]"
      ]
     },
     "execution_count": 8,
     "metadata": {},
     "output_type": "execute_result"
    },
    {
     "data": {
      "image/png": "[encoded data removed]",
      "text/plain": [
       "<Figure size 432x288 with 1 Axes>"
      ]
     },
     "metadata": {
      "needs_background": "light"
     },
     "output_type": "display_data"
    }
   ],
   "source": [
    "plt.figure()\n",
    "plt.plot(screen_z_range,peak_width)"
   ]
  },
  {
   "cell_type": "markdown",
   "metadata": {},
   "source": [
    "## Plot and return maxium position\n"
   ]
  },
  {
   "cell_type": "code",
   "execution_count": null,
   "metadata": {},
   "outputs": [],
   "source": [
    "course_scan = Scan_spec.mean(axis=1)"
   ]
  },
  {
   "cell_type": "code",
   "execution_count": null,
   "metadata": {},
   "outputs": [],
   "source": [
    "plt.figure()\n",
    "plt.title('Scan of detection plane of PSSS')\n",
    "plt.plot(screen_z_range, Scan_spec.mean(axis=1), label = 'mean of 1000 pulses')\n",
    "plt.fill_between(screen_z_range,Scan_spec.mean(axis=1)-Scan_spec.std(axis=1),Scan_spec.mean(axis=1)+Scan_spec.std(axis=1), alpha = 0.1)\n",
    "plt.legend()\n",
    "plt.xlim([-0.1,0.1])\n",
    "plt.ylabel(PSSS_FWHM_name)\n",
    "plt.xlabel(PSSS_screen_z_name)\n",
    "plt.grid(True)"
   ]
  },
  {
   "cell_type": "code",
   "execution_count": null,
   "metadata": {},
   "outputs": [],
   "source": [
    "projection = Scan_spec.mean(axis=1).mean(axis=1)\n",
    "signal_centre = xstal_range[np.argmax(projection)]\n",
    "xstal_range_fit = np.linspace(xstal_range[0], xstal_range[-1], len(xstal_range)*10)\n",
    "energy_axis = PSSS_e_axis_PV.get()\n",
    "try:\n",
    "    popt,pcov = curve_fit(gaus,xstal_range,projection,p0=[100,signal_centre,-0.2,100])\n",
    "except:\n",
    "    print('Fit failed: spectrum might not be near scan range center')\n",
    "    popt = [0.0, 0.0, 0.0, 0.0]\n",
    "plt.figure(figsize=[10,5])\n",
    "plt.subplot(121)\n",
    "plt.title('PSSS scan of crystal height')\n",
    "plt.pcolormesh(energy_axis, xstal_range, Scan_spec.mean(axis=1),cmap='CMRmap')\n",
    "plt.xlim([energy_axis[0],energy_axis[-1]])\n",
    "plt.ylim([xstal_range[0], xstal_range[-1]])\n",
    "plt.xlabel('PSSS energy axis')\n",
    "plt.ylabel('Set crystal position [mm] \\n'+PSSS_xstal_height_name[0:-4])\n",
    "plt.subplot(122)\n",
    "plt.plot(projection,xstal_range,linewidth = 2, color = 'orange',label ='projected signal')\n",
    "plt.plot(gaus(xstal_range_fit,*popt),xstal_range_fit,'r:',label='fit')\n",
    "plt.ylim([xstal_range[0], xstal_range[-1]])\n",
    "plt.title('Signal max at %.3f [mm] (from fit)'%popt[1])\n",
    "plt.xticks([])\n",
    "plt.legend()\n",
    "plt.grid(True)"
   ]
  },
  {
   "cell_type": "markdown",
   "metadata": {},
   "source": [
    "## Set max position\n",
    "Cell below will push the maximum position to the xstal height"
   ]
  },
  {
   "cell_type": "code",
   "execution_count": null,
   "metadata": {},
   "outputs": [],
   "source": [
    "set_xstal_height(popt[1])"
   ]
  }
 ],
 "metadata": {
  "kernelspec": {
   "display_name": "Python 3",
   "language": "python",
   "name": "python3"
  },
  "language_info": {
   "codemirror_mode": {
    "name": "ipython",
    "version": 3
   },
   "file_extension": ".py",
   "mimetype": "text/x-python",
   "name": "python",
   "nbconvert_exporter": "python",
   "pygments_lexer": "ipython3",
   "version": "3.6.8"
  }
 },
 "nbformat": 4,
 "nbformat_minor": 1
}
