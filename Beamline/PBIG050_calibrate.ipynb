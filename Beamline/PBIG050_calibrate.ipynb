{
 "cells": [
  {
   "cell_type": "markdown",
   "metadata": {},
   "source": [
    "# Script to calibrate the position data of PBIG053\n",
    "### Purpose:\n",
    "Contact christopher.arrell@psi.ch"
   ]
  },
  {
   "cell_type": "code",
   "execution_count": 1,
   "metadata": {
    "collapsed": true
   },
   "outputs": [],
   "source": [
    "import epics as ep\n",
    "import numpy as np\n",
    "import matplotlib.pyplot as plt\n",
    "from time import sleep\n",
    "from bsread import source\n",
    "from IPython.display import clear_output, display\n",
    "from scipy.optimize import curve_fit\n",
    "%matplotlib inline"
   ]
  },
  {
   "cell_type": "markdown",
   "metadata": {},
   "source": [
    "## Setup and functions setup"
   ]
  },
  {
   "cell_type": "code",
   "execution_count": 3,
   "metadata": {},
   "outputs": [],
   "source": [
    "# channels = ['SARFE10-LSCP1-FNS:CH0:VAL_GET','SARFE10-LSCP1-FNS:CH1:VAL_GET','SARFE10-LSCP1-FNS:CH2:VAL_GET','SARFE10-LSCP1-FNS:CH3:VAL_GET']\n",
    "channels = ['SARFE10-LSCP1-FNS:CH0:VAL_GET','SARFE10-LSCP1-FNS:CH1:VAL_GET','SARFE10-LSCP1-FNS:CH2:VAL_GET','SARFE10-LSCP1-FNS:CH3:VAL_GET']\n",
    "\n",
    "channel_names = ['Down','Up','Right','Left']\n",
    "# PBPS_x_PV_name = 'SARFE10-PBPG050:MOTOR_X.VAL'\n",
    "# PBPS_y_PV_name = 'SARFE10-PBPG050:MOTOR_Y.VAL'\n",
    "\n",
    "# PBPS_x_PV = ep.PV(PBPS_x_PV_name)\n",
    "# PBPS_y_PV = ep.PV(PBPS_y_PV_name)\n",
    "\n",
    "\n",
    "def set_PBPS_x(pos):\n",
    "    PBPS_x_PV.put(pos, wait=True)\n",
    "def set_PBPS_y(pos):\n",
    "    PBPS_y_PV.put(pos, wait=True)\n",
    "    \n",
    "def make_arrays(pvs, n_pulses):\n",
    "    arrays = []\n",
    "    for pv in pvs:\n",
    "        val = pv.value\n",
    "\n",
    "        dtype = get_dtype(val)\n",
    "        shape = get_shape(val)\n",
    "        shape = (n_pulses,) + shape\n",
    "\n",
    "        arr = np.empty(shape, dtype)\n",
    "        arrays.append(arr)\n",
    "\n",
    "    return arrays\n",
    "\n",
    "def PBPS_get_data(channels, n_pulses=100, wait_time=0.5):\n",
    "    pvs = [ep.PV(ch) for ch in channels]\n",
    "\n",
    "    n_channels = len(channels)\n",
    "    counters = np.zeros(n_channels, dtype=int)\n",
    "\n",
    "    arrays = make_arrays(pvs, n_pulses)\n",
    "\n",
    "\n",
    "    def on_value_change(pv=None, ichannel=None, value=None, **kwargs):\n",
    "        ivalue = counters[ichannel]\n",
    "        arrays[ichannel][ivalue] = value\n",
    "\n",
    "        counters[ichannel] += 1\n",
    "\n",
    "        if counters[ichannel] == n_pulses:\n",
    "            pv.clear_callbacks()\n",
    "\n",
    "\n",
    "    for i, pv in enumerate(pvs):\n",
    "        pv.add_callback(callback=on_value_change, pv=pv, ichannel=i)\n",
    "\n",
    "    while not np.all(counters == n_pulses):\n",
    "        sleep(wait_time)\n",
    "\n",
    "    return(arrays)\n",
    "def get_dtype(v):\n",
    "    if is_array(v):\n",
    "        return v.dtype\n",
    "    else:\n",
    "        return type(v)\n",
    "\n",
    "def get_shape(v):\n",
    "    if is_array(v):\n",
    "        return v.shape\n",
    "    else:\n",
    "        return tuple()\n",
    "\n",
    "def is_array(v):\n",
    "    return isinstance(v, np.ndarray)\n",
    "\n",
    "def PBPS_x_scan(Scan_x_range,channels, numShots):\n",
    "        \n",
    "    scan_mean = []\n",
    "    scan_std = []\n",
    "    scan_all = []\n",
    "            \n",
    "    for pos in Scan_x_range:\n",
    "        set_PBPS_x(pos)  \n",
    "        data = PBPS_get_data(channels, numShots)\n",
    "        scan_mean.append([i.mean() for i in data])\n",
    "        scan_std.append([i.std() for i in data])\n",
    "        scan_all.append(data)\n",
    "    return(np.asarray(scan_mean), np.asarray(scan_std), np.asarray(scan_all))\n",
    "\n",
    "def PBPS_y_scan(Scan_y_range,channels, numShots):\n",
    "        \n",
    "    scan_mean = []\n",
    "    scan_std = []\n",
    "    scan_all = []\n",
    "            \n",
    "    for pos in Scan_y_range:\n",
    "        set_PBPS_y(pos)  \n",
    "        data = PBPS_get_data(channels, numShots)\n",
    "        scan_mean.append([i.mean() for i in data])\n",
    "        scan_std.append([i.std() for i in data])\n",
    "        scan_all.append(data)\n",
    "    return(np.asarray(scan_mean), np.asarray(scan_std), np.asarray(scan_all))\n",
    "\n",
    "def PBPS_I_calibrate(channels, numShots):\n",
    "        \n",
    "    scan_mean = []\n",
    "    scan_std = []\n",
    "    scan_all = []\n",
    "\n",
    "    data = PBPS_get_data(channels, numShots)\n",
    "    scan_mean.append([i.mean() for i in data])\n",
    "    scan_std.append([i.std() for i in data])\n",
    "    scan_all.append(data)\n",
    "    return(np.asarray(scan_mean), np.asarray(scan_std), np.asarray(scan_all))\n",
    "\n",
    "def lin_fit(x,m,a):\n",
    "    return m*x+a\n",
    "def fit(xdata,ydata):\n",
    "    popt, pcov = curve_fit(lin_fit, xdata, ydata)\n",
    "    return(popt)"
   ]
  },
  {
   "cell_type": "markdown",
   "metadata": {},
   "source": [
    "## User inputs"
   ]
  },
  {
   "cell_type": "code",
   "execution_count": 5,
   "metadata": {
    "collapsed": true
   },
   "outputs": [],
   "source": [
    "numShots = 500\n",
    "# Scan_x_range = np.linspace(-1.0,1.5,10)\n",
    "# Scan_y_range = np.linspace(-0.5,0.5,10)"
   ]
  },
  {
   "cell_type": "markdown",
   "metadata": {},
   "source": [
    "## Scan and measure"
   ]
  },
  {
   "cell_type": "code",
   "execution_count": 6,
   "metadata": {},
   "outputs": [],
   "source": [
    "scan_I_mean,scan_I_std, _ = PBPS_I_calibrate(channels, numShots*5)\n",
    "norm_diodes = np.asarray([1 / tm / 4 for tm in scan_I_mean])"
   ]
  },
  {
   "cell_type": "code",
   "execution_count": 8,
   "metadata": {},
   "outputs": [
    {
     "data": {
      "text/plain": [
       "array([[-0.000203  , -0.00029889, -0.00023488, -0.00029716]])"
      ]
     },
     "execution_count": 8,
     "metadata": {},
     "output_type": "execute_result"
    }
   ],
   "source": [
    "norm_diodes"
   ]
  },
  {
   "cell_type": "code",
   "execution_count": null,
   "metadata": {
    "collapsed": true
   },
   "outputs": [],
   "source": [
    "scan_x_mean,scan_x_std, scan_x_data = PBPS_x_scan(Scan_x_range, channels, numShots)\n",
    "#scan_x_mean,scan_x_std, scan_x_data = PBPS_x_scan(Scan_x_range, channels, numShots)\n",
    "\n",
    "set_PBPS_x(-0.5)"
   ]
  },
  {
   "cell_type": "code",
   "execution_count": null,
   "metadata": {
    "collapsed": true
   },
   "outputs": [],
   "source": [
    "scan_y_mean,scan_y_std, _ = PBPS_y_scan(Scan_y_range, channels, numShots)\n",
    "set_PBPS_y(0)"
   ]
  },
  {
   "cell_type": "code",
   "execution_count": null,
   "metadata": {
    "collapsed": true
   },
   "outputs": [],
   "source": [
    "popt_x = []\n",
    "for i in range(0,scan_x_mean.shape[1]):\n",
    "    popt_x.append(fit(Scan_x_range,scan_x_mean[:,i]))\n",
    "popt_x =np.asarray(popt_x)"
   ]
  },
  {
   "cell_type": "code",
   "execution_count": null,
   "metadata": {
    "collapsed": true
   },
   "outputs": [],
   "source": [
    "plt.figure(figsize=[5,5])\n",
    "for i in range(0,scan_x_mean.shape[1]):\n",
    "    plt.errorbar(Scan_x_range, scan_x_mean[:,i], yerr=scan_x_std[:,i],label = channel_names[i])\n",
    "    plt.plot(Scan_x_range,lin_fit(Scan_x_range,*popt_x[i,:]))\n",
    "plt.legend()\n",
    "plt.grid(True)\n",
    "plt.title('PBIG calibration')\n",
    "plt.xlabel('X position [mm]')\n",
    "plt.ylabel('Inensity [arb]')"
   ]
  },
  {
   "cell_type": "code",
   "execution_count": null,
   "metadata": {
    "collapsed": true
   },
   "outputs": [],
   "source": [
    "plt.figure(figsize=[5,5])\n",
    "for i in range(0,scan_y_mean.shape[1]):\n",
    "    plt.errorbar(Scan_y_range, scan_y_mean[:,i], yerr=scan_y_std[:,i],label = channel_names[i])\n",
    "plt.legend()\n",
    "plt.grid(True)\n",
    "plt.title('PBIG calibration')\n",
    "plt.xlabel('Y position [mm]')\n",
    "plt.ylabel('Inensity [arb]')"
   ]
  },
  {
   "cell_type": "markdown",
   "metadata": {},
   "source": [
    "## Calibrate"
   ]
  },
  {
   "cell_type": "code",
   "execution_count": null,
   "metadata": {
    "collapsed": true
   },
   "outputs": [],
   "source": [
    "tmp = (scan_y_mean[:,0]-scan_y_mean[:,1])/(scan_y_mean[:,0]+scan_y_mean[:,1])\n",
    "tmp_2 = (scan_x_mean[:,2]-scan_x_mean[:,3])/(scan_x_mean[:,2]+scan_x_mean[:,3])"
   ]
  },
  {
   "cell_type": "code",
   "execution_count": null,
   "metadata": {
    "collapsed": true
   },
   "outputs": [],
   "source": [
    "plt.figure()\n",
    "plt.plot(Scan_y_range, tmp)"
   ]
  },
  {
   "cell_type": "code",
   "execution_count": null,
   "metadata": {
    "collapsed": true
   },
   "outputs": [],
   "source": [
    "plt.figure()\n",
    "plt.plot(Scan_x_range, tmp_2)"
   ]
  },
  {
   "cell_type": "code",
   "execution_count": null,
   "metadata": {
    "collapsed": true
   },
   "outputs": [],
   "source": [
    "scan_y_mean"
   ]
  },
  {
   "cell_type": "code",
   "execution_count": null,
   "metadata": {
    "collapsed": true
   },
   "outputs": [],
   "source": [
    "norm_diodes[0,0]"
   ]
  },
  {
   "cell_type": "code",
   "execution_count": null,
   "metadata": {
    "collapsed": true
   },
   "outputs": [],
   "source": [
    "norm_diodes = np.asarray([1 / tm / 4 for tm in scan_I_mean])\n",
    "scan_x_norm = (scan_x_mean[:,3]*norm_diodes[0,3]-scan_x_mean[:,2]*norm_diodes[0,2])/(scan_x_mean[:,3]*norm_diodes[0,3]+scan_x_mean[:,2]*norm_diodes[0,2])\n",
    "scan_y_norm = (scan_y_mean[:,1]*norm_diodes[0,1]-scan_y_mean[:,0]*norm_diodes[0,0])/(scan_y_mean[:,1]*norm_diodes[0,1]+scan_y_mean[:,0]*norm_diodes[0,0])\n"
   ]
  },
  {
   "cell_type": "code",
   "execution_count": null,
   "metadata": {
    "collapsed": true
   },
   "outputs": [],
   "source": [
    "popt_norm_x = fit(Scan_x_range,scan_x_norm)\n",
    "plt.figure()\n",
    "plt.plot(Scan_x_range, scan_x_norm)\n",
    "plt.plot(Scan_x_range,lin_fit(Scan_x_range,*popt_norm_x))"
   ]
  },
  {
   "cell_type": "code",
   "execution_count": null,
   "metadata": {
    "collapsed": true
   },
   "outputs": [],
   "source": [
    "popt_norm_y = fit(Scan_y_range,scan_y_norm)\n",
    "plt.figure()\n",
    "plt.plot(Scan_y_range, scan_y_norm)\n",
    "plt.plot(Scan_y_range,lin_fit(Scan_y_range,*popt_norm_y))"
   ]
  },
  {
   "cell_type": "code",
   "execution_count": 10,
   "metadata": {},
   "outputs": [
    {
     "data": {
      "text/plain": [
       "1"
      ]
     },
     "execution_count": 10,
     "metadata": {},
     "output_type": "execute_result"
    }
   ],
   "source": [
    "#set intensities\n",
    "ep.PV('SARES12-CVME-EVR0:CALCI.INPE').put(bytes(str(norm_diodes[0,0]), \"utf8\"))\n",
    "ep.PV('SARES12-CVME-EVR0:CALCI.INPF').put(bytes(str(norm_diodes[0,1]), \"utf8\"))\n",
    "ep.PV('SARES12-CVME-EVR0:CALCI.INPG').put(bytes(str(norm_diodes[0,2]), \"utf8\"))\n",
    "ep.PV('SARES12-CVME-EVR0:CALCI.INPH').put(bytes(str(norm_diodes[0,3]), \"utf8\"))"
   ]
  },
  {
   "cell_type": "code",
   "execution_count": null,
   "metadata": {
    "collapsed": true
   },
   "outputs": [],
   "source": [
    "# set x position\n",
    "ep.PV('SARFE10-PBIG050-EVR0:CALCX.INPE').put(bytes(str(norm_diodes[0,2]), \"utf8\"))\n",
    "ep.PV('SARFE10-PBIG050-EVR0:CALCX.INPF').put(bytes(str(norm_diodes[0,3]), \"utf8\"))\n",
    "ep.PV('SARFE10-PBIG050-EVR0:CALCX.INPI').put(bytes(str(popt_norm_x[0]*225), \"utf8\"))"
   ]
  },
  {
   "cell_type": "markdown",
   "metadata": {},
   "source": [
    "## Test scans"
   ]
  },
  {
   "cell_type": "code",
   "execution_count": null,
   "metadata": {
    "collapsed": true
   },
   "outputs": [],
   "source": []
  }
 ],
 "metadata": {
  "kernelspec": {
   "display_name": "Python 3",
   "language": "python",
   "name": "python3"
  },
  "language_info": {
   "codemirror_mode": {
    "name": "ipython",
    "version": 3
   },
   "file_extension": ".py",
   "mimetype": "text/x-python",
   "name": "python",
   "nbconvert_exporter": "python",
   "pygments_lexer": "ipython3",
   "version": "3.5.1"
  }
 },
 "nbformat": 4,
 "nbformat_minor": 1
}
