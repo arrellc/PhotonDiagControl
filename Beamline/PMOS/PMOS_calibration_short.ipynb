{
 "cells": [
  {
   "cell_type": "markdown",
   "metadata": {},
   "source": [
    "# Script to calibrate the Furka PMOS and push calibration\n",
    "### Purpose: Calibtraion of dispersed energy axis from pixel to eV for PMOS\n",
    "Contact christopher.arrell@psi.ch"
   ]
  },
  {
   "cell_type": "code",
   "execution_count": 5,
   "metadata": {},
   "outputs": [
    {
     "name": "stdout",
     "output_type": "stream",
     "text": [
      "The autoreload extension is already loaded. To reload it, use:\n",
      "  %reload_ext autoreload\n"
     ]
    }
   ],
   "source": [
    "%load_ext autoreload\n",
    "import epics as ep\n",
    "import numpy as np\n",
    "from PMOS_tools import *\n",
    "import matplotlib.pyplot as plt\n",
    "from collections import deque\n",
    "from scipy.optimize import curve_fit\n",
    "%matplotlib inline\n",
    "from IPython.display import clear_output, display\n",
    "import h5py as h5\n",
    "from scipy.optimize import curve_fit\n",
    "import seaborn as sns\n",
    "from lmfit.models import ConstantModel, GaussianModel, VoigtModel"
   ]
  },
  {
   "cell_type": "markdown",
   "metadata": {},
   "source": [
    "## Move in PMOS screen"
   ]
  },
  {
   "cell_type": "code",
   "execution_count": 7,
   "metadata": {},
   "outputs": [
    {
     "name": "stdout",
     "output_type": "stream",
     "text": [
      "it worked\n"
     ]
    }
   ],
   "source": [
    "%autoreload\n",
    "set_PMOS_screen_y(26)"
   ]
  },
  {
   "cell_type": "markdown",
   "metadata": {},
   "source": [
    "## Setup and functions setup"
   ]
  },
  {
   "cell_type": "code",
   "execution_count": null,
   "metadata": {},
   "outputs": [],
   "source": [
    "PMOS_e_axis = PMOS_e_axis_PV.get()\n",
    "\n",
    "   \n",
    "\n",
    "def PMOS_focus_scan(Focus_range, NumShots):\n",
    "        \n",
    "    Spectrum_scan = []\n",
    "    e_axis_scan = []\n",
    "    \n",
    "    for focus_val in Focus_range:\n",
    "        set_PMOS_focus(focus_val)  \n",
    "           \n",
    "        Spectrum_this_energy = deque(maxlen = NumShots)\n",
    "        def on_value_change(value=None,pv = None, **kwargs):\n",
    "            Spectrum_this_energy.append(value)\n",
    "\n",
    "            if len(Spectrum_this_energy) == NumShots:\n",
    "                pv.clear_callbacks()\n",
    "                \n",
    "        PMOS_spectrum_PV.add_callback(callback=on_value_change, pv =PMOS_spectrum_PV)\n",
    "        while len(Spectrum_this_energy) < NumShots:\n",
    "            sleep(1)\n",
    "        Spectrum_scan.append(np.array(Spectrum_this_energy))\n",
    "        e_axis_scan.append(PMOS_e_axis_PV.get())\n",
    "    return(np.array(e_axis_scan),np.array(Spectrum_scan))\n",
    "\n",
    "def MONO_r2_scan(r2_range, NumShots):\n",
    "        \n",
    "    Spectrum_scan = []\n",
    "    e_axis_scan = []\n",
    "    \n",
    "    for r2 in r2_range:\n",
    "        set_MONO_r2(r2)  \n",
    "           \n",
    "        Spectrum_this_energy = deque(maxlen = NumShots)\n",
    "        def on_value_change(value=None,pv = None, **kwargs):\n",
    "            Spectrum_this_energy.append(value)\n",
    "\n",
    "            if len(Spectrum_this_energy) == NumShots:\n",
    "                pv.clear_callbacks()\n",
    "                \n",
    "        PMOS_spectrum_PV.add_callback(callback=on_value_change, pv =PMOS_spectrum_PV)\n",
    "        while len(Spectrum_this_energy) < NumShots:\n",
    "            sleep(1)\n",
    "        Spectrum_scan.append(np.array(Spectrum_this_energy))\n",
    "        e_axis_scan.append(PMOS_e_axis_PV.get())\n",
    "    return(np.array(e_axis_scan),np.array(Spectrum_scan))\n",
    "\n",
    "def PMOS_screen_y_scan(y_range, NumShots):\n",
    "        \n",
    "    Spectrum_scan = []\n",
    "    e_axis_scan = []\n",
    "    \n",
    "    for y in y_range:\n",
    "        set_PMOS_screen_y(y)  \n",
    "           \n",
    "        Spectrum_this_energy = deque(maxlen = NumShots)\n",
    "        def on_value_change(value=None,pv = None, **kwargs):\n",
    "            Spectrum_this_energy.append(value)\n",
    "\n",
    "            if len(Spectrum_this_energy) == NumShots:\n",
    "                pv.clear_callbacks()\n",
    "                \n",
    "        PMOS_spectrum_PV.add_callback(callback=on_value_change, pv =PMOS_spectrum_PV)\n",
    "        while len(Spectrum_this_energy) < NumShots:\n",
    "            sleep(1)\n",
    "        Spectrum_scan.append(np.array(Spectrum_this_energy))\n",
    "        e_axis_scan.append(PMOS_e_axis_PV.get())\n",
    "    return(np.array(e_axis_scan),np.array(Spectrum_scan))\n",
    "\n",
    "def gaus(x,a,x0,sigma,offset):\n",
    "    return offset +a*np.exp(-(x-x0)**2/(2*sigma**2))\n",
    "\n",
    "def Spectra_bin(Scan_e_axis, e_axis_full, spectra):\n",
    "    digi = np.digitize(Scan_e_axis, e_axis_full)   \n",
    "    Spec_binned = []\n",
    "    for i in range(0,len(e_axis_full)):\n",
    "        ind = digi==i+1\n",
    "        Spec_binned.append(spectra[ind].mean(axis=0))\n",
    "    return np.asarray(Spec_binned)\n",
    "\n",
    "def gauss(x, H, A, x0, sigma):\n",
    "    return H + A * np.exp(-(x - x0) ** 2 / (2 * sigma ** 2))\n",
    "\n",
    "def bimodal(x, H_1, A_1, x0_1, sigma_1,H_2, A_2, x0_2, sigma_2):\n",
    "    return gauss(x, H_1, A_1, x0_1, sigma_1)+gauss(x, H_2, A_2, x0_2, sigma_2)\n",
    "\n",
    "def gauss_fit(x, y):\n",
    "    mean = sum(x * y) / sum(y)\n",
    "    sigma = np.sqrt(sum(y * (x - mean) ** 2) / sum(y))\n",
    "    popt, pcov = curve_fit(gauss, x, y, p0=[min(y), max(y), mean, sigma])\n",
    "    return popt\n",
    "\n",
    "def bimodal_fit(x, y):\n",
    "    mean = sum(x * y) / sum(y)\n",
    "    sigma = np.sqrt(sum(y * (x - mean) ** 2) / sum(y))\n",
    "    popt, pcov = curve_fit(bimodal, x, y, p0=[min(y), max(y), mean, sigma,min(y), max(y), mean, sigma])\n",
    "    return popt\n",
    "\n",
    "def auto_corr(e_axis, Spec):\n",
    "    correlations = np.zeros_like(Spec)\n",
    "    correlations = []\n",
    "    \n",
    "    for i in range(0,Spec.shape[0]):\n",
    "        test = np.correlate(Spec[i,:].astype('float'),Spec[i,:].astype('float'), mode='same')\n",
    "#         test = np.correlate(Spec[i,:],Spec[i,:], mode='same')\n",
    "        \n",
    "        correlations.append(test)\n",
    "    lags = e_axis - e_axis[int(e_axis.size /2)]\n",
    "    correlations = np.asarray(correlations)\n",
    "    return lags, correlations.mean(axis=0)"
   ]
  },
  {
   "cell_type": "code",
   "execution_count": null,
   "metadata": {},
   "outputs": [],
   "source": []
  },
  {
   "cell_type": "markdown",
   "metadata": {},
   "source": [
    "## User inputs - define focus range to scan "
   ]
  },
  {
   "cell_type": "markdown",
   "metadata": {},
   "source": [
    "Scan range"
   ]
  },
  {
   "cell_type": "code",
   "execution_count": null,
   "metadata": {},
   "outputs": [],
   "source": [
    "Focus_from = 0.4\n",
    "Focus_to = 0.6\n",
    "steps = 20\n",
    "NumShots= 10\n",
    "Focus_range = np.linspace(Focus_from, Focus_to, steps)"
   ]
  },
  {
   "cell_type": "code",
   "execution_count": null,
   "metadata": {},
   "outputs": [],
   "source": [
    "r2_from = 40\n",
    "r2_to = 50\n",
    "steps = 10\n",
    "NumShots= 100\n",
    "r2_range = np.linspace(r2_from, r2_to, steps)"
   ]
  },
  {
   "cell_type": "code",
   "execution_count": null,
   "metadata": {},
   "outputs": [],
   "source": [
    "y_from = 26\n",
    "y_to = 36\n",
    "steps = 10\n",
    "NumShots= 10\n",
    "y_range = np.linspace(y_from, y_to, steps)"
   ]
  },
  {
   "cell_type": "markdown",
   "metadata": {},
   "source": [
    "Only run the follow cell if you want to save in a single energy position"
   ]
  },
  {
   "cell_type": "markdown",
   "metadata": {},
   "source": [
    "\n",
    "\n",
    "## Scan to calibrate PMOS"
   ]
  },
  {
   "cell_type": "code",
   "execution_count": null,
   "metadata": {},
   "outputs": [],
   "source": [
    "set_PMOS_screen_y(y_range[0])\n",
    "Scan_e_axis, Scan_spec = PMOS_screen_y_scan(y_range,NumShots)"
   ]
  },
  {
   "cell_type": "code",
   "execution_count": null,
   "metadata": {},
   "outputs": [],
   "source": [
    "np.argmax(Scan_spec[0,:,:].mean(axis=0))"
   ]
  },
  {
   "cell_type": "code",
   "execution_count": null,
   "metadata": {},
   "outputs": [],
   "source": [
    "max_pixel = []\n",
    "for i in range(0, Scan_spec.shape[0]):\n",
    "    max_pixel.append(np.argmax(Scan_spec[i,:,:].mean(axis=0)))\n",
    "    "
   ]
  },
  {
   "cell_type": "code",
   "execution_count": null,
   "metadata": {},
   "outputs": [],
   "source": [
    "plt.figure()\n",
    "plt.plot(y_range, max_pixel)"
   ]
  },
  {
   "cell_type": "code",
   "execution_count": null,
   "metadata": {},
   "outputs": [],
   "source": [
    "grad = np.abs((max_pixel[0]-max_pixel[-1])/(y_range[0]-y_range[-1]))"
   ]
  },
  {
   "cell_type": "code",
   "execution_count": null,
   "metadata": {},
   "outputs": [],
   "source": [
    "fov_mm = Scan_e_axis[0,-1]/grad"
   ]
  },
  {
   "cell_type": "code",
   "execution_count": null,
   "metadata": {},
   "outputs": [],
   "source": [
    "energy_window =0.729*fov_mm"
   ]
  },
  {
   "cell_type": "code",
   "execution_count": null,
   "metadata": {},
   "outputs": [],
   "source": [
    "central_engery = 532.5 #eV\n",
    "energy_0 = central_engery-energy_window/2\n",
    "energy_1 = central_engery+energy_window/2"
   ]
  },
  {
   "cell_type": "code",
   "execution_count": null,
   "metadata": {},
   "outputs": [],
   "source": [
    "e_axis = np.linspace(energy_0, energy_1,Scan_e_axis.shape[1])"
   ]
  },
  {
   "cell_type": "code",
   "execution_count": null,
   "metadata": {},
   "outputs": [],
   "source": [
    "e_axis[0]"
   ]
  },
  {
   "cell_type": "code",
   "execution_count": null,
   "metadata": {},
   "outputs": [],
   "source": [
    "ep.caput('SATOP31-PMOS132-2D:SPECTRUM_X',e_axis)"
   ]
  },
  {
   "cell_type": "code",
   "execution_count": null,
   "metadata": {},
   "outputs": [],
   "source": [
    "mean_cor = []\n",
    "for i in range(0, Scan_spec.shape[0]):\n",
    "    lags, this_cor = auto_corr(Scan_e_axis[0,:], Scan_spec[i,:,:]-50000)\n",
    "    mean_cor.append(this_cor)\n",
    "mean_cor = np.asarray(mean_cor)"
   ]
  },
  {
   "cell_type": "code",
   "execution_count": null,
   "metadata": {},
   "outputs": [],
   "source": [
    "sns.set_style(\"darkgrid\")\n",
    "sns.set_context(\"talk\")\n",
    "plt.figure(figsize=[20,10])\n",
    "plt.subplot(121)\n",
    "plt.title('Mono R2 scan \\n auto correlation')\n",
    "plt.pcolormesh(lags,Focus_range,mean_cor)\n",
    "plt.xlabel('lags')\n",
    "plt.ylabel('Lens voltage')\n",
    "plt.subplot(122)\n",
    "index = int(len(Focus_range)/2)\n",
    "plt.plot(lags, mean_cor[index,:], label = \"Len_voltage = %.2f\"%Focus_range[index])\n",
    "plt.legend()\n",
    "plt.xlabel('lags')"
   ]
  },
  {
   "cell_type": "code",
   "execution_count": null,
   "metadata": {},
   "outputs": [],
   "source": [
    "plt.figure(figsize=[15,10])\n",
    "plt.title('PMOS spectra centred at \\n 400 [eV]')\n",
    "plt.plot(Scan_spec[0,1,:])\n",
    "# plt.plot(Scan_spec[0,2,:])\n",
    "plt.savefig('Some_spec', dpi = 300)"
   ]
  },
  {
   "cell_type": "code",
   "execution_count": null,
   "metadata": {},
   "outputs": [],
   "source": [
    "Scan_spec.shape"
   ]
  },
  {
   "cell_type": "code",
   "execution_count": null,
   "metadata": {},
   "outputs": [],
   "source": [
    "# PMOS r2 scan"
   ]
  },
  {
   "cell_type": "code",
   "execution_count": null,
   "metadata": {},
   "outputs": [],
   "source": [
    "set_MONO_r2(r2_range[0])\n",
    "sleep(1)\n",
    "Scan_e_axis, Scan_spec = MONO_r2_scan(r2_range,NumShots)"
   ]
  },
  {
   "cell_type": "code",
   "execution_count": null,
   "metadata": {},
   "outputs": [],
   "source": [
    "Scan_spec_bkg_rm = np.zeros_like(Scan_spec)"
   ]
  },
  {
   "cell_type": "code",
   "execution_count": null,
   "metadata": {},
   "outputs": [],
   "source": [
    "for i in range(0,Scan_spec.shape[0]):\n",
    "    for j in range(0,Scan_spec.shape[1]):\n",
    "        Scan_spec_bkg_rm[i,j,:] = Scan_spec[i,j,:]-50000"
   ]
  },
  {
   "cell_type": "code",
   "execution_count": null,
   "metadata": {},
   "outputs": [],
   "source": [
    "model = GaussianModel(prefix=\"p1_\") + GaussianModel(prefix=\"p2_\") + GaussianModel(prefix=\"p3_\")\n",
    "\n",
    "model.set_param_hint(\"p1_center\", value=0, vary=False)\n",
    "model.set_param_hint(\"p2_center\", value=0, vary=False)\n",
    "model.set_param_hint(\"p3_center\", value=0, vary=False)"
   ]
  },
  {
   "cell_type": "code",
   "execution_count": null,
   "metadata": {},
   "outputs": [],
   "source": [
    "peak_width = []\n",
    "spectral_width = []\n",
    "bkg_width = []\n",
    "peak_err = []\n",
    "spectral_err = []\n",
    "bkg_err = []\n",
    "mean_cor =[]\n",
    "min_width = []\n",
    "for i in range(0, Scan_spec.shape[0]):\n",
    "    lags, this_cor = auto_corr(Scan_e_axis[0,:], Scan_spec[i,:,:]-50000)\n",
    "#     this_cor = np.asarray(this_cor)\n",
    "    this_cor/= np.max(this_cor)\n",
    "    lags = lags.astype(\"float64\")\n",
    "    params = model.make_params()\n",
    "    result = model.fit(this_cor, params, x=lags, model ='least_squares')\n",
    "\n",
    "    mean_cor.append(this_cor)\n",
    "    peak_width.append(result.values['p1_sigma'])\n",
    "    spectral_width.append(result.values['p2_sigma'])\n",
    "    bkg_width.append(result.values['p3_sigma'])\n",
    "    min_width.append(np.min(result.values['p1_sigma'] +result.values['p2_sigma']+result.values['p3_sigma']))\n",
    "\n",
    "    peak_err.append(result.params['p1_sigma'].stderr)\n",
    "    spectral_err.append(result.params['p2_sigma'].stderr)\n",
    "    bkg_err.append(result.params['p3_sigma'].stderr)\n",
    "mean_cor = np.asarray(mean_cor)"
   ]
  },
  {
   "cell_type": "code",
   "execution_count": 16,
   "metadata": {},
   "outputs": [
    {
     "data": {
      "text/plain": [
       "1"
      ]
     },
     "execution_count": 16,
     "metadata": {},
     "output_type": "execute_result"
    }
   ],
   "source": [
    "e_axis = np.arange(0,1456)\n",
    "ep.caput('SATOP31-PMOS132-2D:SPECTRUM_X', e_axis)"
   ]
  },
  {
   "cell_type": "code",
   "execution_count": 14,
   "metadata": {},
   "outputs": [
    {
     "data": {
      "text/plain": [
       "1455"
      ]
     },
     "execution_count": 14,
     "metadata": {},
     "output_type": "execute_result"
    }
   ],
   "source": [
    "1968-513"
   ]
  },
  {
   "cell_type": "code",
   "execution_count": null,
   "metadata": {},
   "outputs": [],
   "source": [
    "plt.figure()\n",
    "plt.plot(lags, mean_cor[-1,:], label = 'Auto correlation')\n",
    "plt.plot(lags, result.best_fit, label ='fit')\n",
    "plt.legend()"
   ]
  },
  {
   "cell_type": "code",
   "execution_count": null,
   "metadata": {},
   "outputs": [],
   "source": [
    "fits = np.zeros(shape = [3,len(r2_range)])\n",
    "fits[0,:] = peak_width\n",
    "fits[1,:] = spectral_width\n",
    "fits[2,:] = bkg_width"
   ]
  },
  {
   "cell_type": "code",
   "execution_count": null,
   "metadata": {},
   "outputs": [],
   "source": [
    "fits.shape"
   ]
  },
  {
   "cell_type": "code",
   "execution_count": null,
   "metadata": {},
   "outputs": [],
   "source": [
    "min_width = []\n",
    "for i in range(0, fits.shape[1]):\n",
    "    min_width.append(np.min(fits[:,i]))"
   ]
  },
  {
   "cell_type": "code",
   "execution_count": null,
   "metadata": {},
   "outputs": [],
   "source": [
    "min_width"
   ]
  },
  {
   "cell_type": "code",
   "execution_count": null,
   "metadata": {},
   "outputs": [],
   "source": [
    "plt.figure()\n",
    "plt.plot(r2_range, min_width)\n",
    "plt.xlabel('r2')\n",
    "plt.ylabel('sigma smallest fit')\n",
    "# plt.ylim([0, 200])"
   ]
  },
  {
   "cell_type": "code",
   "execution_count": null,
   "metadata": {},
   "outputs": [],
   "source": [
    "sns.set_style(\"darkgrid\")\n",
    "sns.set_context(\"talk\")\n",
    "plt.figure(figsize=[20,10])\n",
    "plt.subplot(121)\n",
    "plt.title('Mono R2 scan \\n auto correlation')\n",
    "plt.pcolormesh(lags,r2_range,mean_cor)\n",
    "plt.xlabel('lags')\n",
    "plt.ylabel('r2')\n",
    "plt.subplot(122)\n",
    "index = int(len(mean_cor)/2)\n",
    "plt.plot(lags, mean_cor[-1,:], label = \"R2 = %.2f\"%r2_range[index])\n",
    "plt.plot(lags, bimodal(lags, *bpopt))\n",
    "plt.legend()\n",
    "plt.xlabel('lags')"
   ]
  },
  {
   "cell_type": "code",
   "execution_count": null,
   "metadata": {},
   "outputs": [],
   "source": [
    "sns.set_style(\"darkgrid\")\n",
    "sns.set_context(\"talk\")\n",
    "plt.figure(figsize=[10,10])\n",
    "plt.title('Mono R2 scan')\n",
    "plt.pcolormesh(Scan_e_axis.mean(axis=0),r2_range,Scan_spec.mean(axis=1))\n",
    "plt.xlabel('Pixel')\n",
    "plt.ylabel('r2')"
   ]
  },
  {
   "cell_type": "code",
   "execution_count": null,
   "metadata": {},
   "outputs": [],
   "source": [
    "plt.figure()\n",
    "plt.pcolormesh(Focus_range, Scan_e_axis.mean(axis=0), Scan_spec.mean(axis=1),cmap='CMRmap')\n"
   ]
  },
  {
   "cell_type": "markdown",
   "metadata": {},
   "source": [
    "## Save data"
   ]
  },
  {
   "cell_type": "code",
   "execution_count": null,
   "metadata": {},
   "outputs": [],
   "source": [
    "folder = \"/sf/photo/two_colour_test/\"\n",
    "name = 'energy_scan_100.h5'"
   ]
  },
  {
   "cell_type": "code",
   "execution_count": null,
   "metadata": {},
   "outputs": [],
   "source": [
    "with h5.File(folder+name, 'w-') as fh:\n",
    "    fh['Scan_e_axis'] = Scan_e_axis\n",
    "    fh['Scan_spec'] = Scan_spec\n",
    "    fh['Energy_range'] = Energy_range\n",
    "    fh['e_axis_full'] = e_axis_full\n",
    "    fh['Bin_spec'] = Bin_spec\n",
    "    fh['Spec_range'] = Spec_range    "
   ]
  }
 ],
 "metadata": {
  "kernelspec": {
   "display_name": "Python 3",
   "language": "python",
   "name": "python3"
  },
  "language_info": {
   "codemirror_mode": {
    "name": "ipython",
    "version": 3
   },
   "file_extension": ".py",
   "mimetype": "text/x-python",
   "name": "python",
   "nbconvert_exporter": "python",
   "pygments_lexer": "ipython3",
   "version": "3.6.8"
  }
 },
 "nbformat": 4,
 "nbformat_minor": 1
}
