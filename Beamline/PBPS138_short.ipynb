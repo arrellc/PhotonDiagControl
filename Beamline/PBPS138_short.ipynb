{
 "cells": [
  {
   "cell_type": "markdown",
   "metadata": {},
   "source": [
    "# Script to calibrate the position data of PBPS138\n",
    "### Purpose: Short script to push position and diode intensity calibration values to online calculation\n",
    "Contact christopher.arrell@psi.ch"
   ]
  },
  {
   "cell_type": "code",
   "execution_count": 15,
   "metadata": {},
   "outputs": [],
   "source": [
    "import epics as ep\n",
    "from bsread import source\n",
    "import numpy as np\n",
    "import matplotlib.pyplot as plt\n",
    "from time import sleep\n",
    "from bsread import source\n",
    "from IPython.display import clear_output, display\n",
    "from scipy.optimize import curve_fit\n",
    "import json\n",
    "%matplotlib inline"
   ]
  },
  {
   "cell_type": "markdown",
   "metadata": {},
   "source": [
    "## Setup and functions setup"
   ]
  },
  {
   "cell_type": "code",
   "execution_count": 2,
   "metadata": {},
   "outputs": [],
   "source": [
    "channels = ['SAROP21-CVME-PBPS2:Lnk9Ch3-DATA-SUM','SAROP21-CVME-PBPS2:Lnk9Ch4-DATA-SUM','SAROP21-CVME-PBPS2:Lnk9Ch1-DATA-SUM','SAROP21-CVME-PBPS2:Lnk9Ch2-DATA-SUM']\n",
    "channel_names = ['Down','Up','Right','Left']\n",
    "Devive_prefix = \"SAROP21-PBPS138:\"\n",
    "\n",
    "PBPS_x_PV_name = Devive_prefix+'MOTOR_X1.VAL'\n",
    "PBPS_y_PV_name = Devive_prefix+'MOTOR_Y1.VAL'\n",
    "\n",
    "PBPS_x_PV = ep.PV(PBPS_x_PV_name)\n",
    "PBPS_y_PV = ep.PV(PBPS_y_PV_name)\n",
    "\n",
    "\n",
    "def set_PBPS_x(pos):\n",
    "    PBPS_x_PV.put(pos, wait=True)\n",
    "def set_PBPS_y(pos):\n",
    "    PBPS_y_PV.put(pos, wait=True)\n",
    "    \n",
    "def make_arrays(pvs, n_pulses):\n",
    "    arrays = []\n",
    "    for pv in pvs:\n",
    "        val = pv.value\n",
    "\n",
    "        dtype = get_dtype(val)\n",
    "        shape = get_shape(val)\n",
    "        shape = (n_pulses,) + shape\n",
    "\n",
    "        arr = np.empty(shape, dtype)\n",
    "        arrays.append(arr)\n",
    "\n",
    "    return arrays\n",
    "\n",
    "def PBPS_get_data(channels, n_pulses=100, wait_time=0.5):\n",
    "    pvs = [ep.PV(ch) for ch in channels]\n",
    "\n",
    "    n_channels = len(channels)\n",
    "    counters = np.zeros(n_channels, dtype=int)\n",
    "\n",
    "    arrays = make_arrays(pvs, n_pulses)\n",
    "\n",
    "\n",
    "    def on_value_change(pv=None, ichannel=None, value=None, **kwargs):\n",
    "        ivalue = counters[ichannel]\n",
    "        arrays[ichannel][ivalue] = value\n",
    "\n",
    "        counters[ichannel] += 1\n",
    "\n",
    "        if counters[ichannel] == n_pulses:\n",
    "            pv.clear_callbacks()\n",
    "\n",
    "\n",
    "    for i, pv in enumerate(pvs):\n",
    "        pv.add_callback(callback=on_value_change, pv=pv, ichannel=i)\n",
    "\n",
    "    while not np.all(counters == n_pulses):\n",
    "        sleep(wait_time)\n",
    "\n",
    "    return(arrays)\n",
    "\n",
    "def get_dtype(v):\n",
    "    if is_array(v):\n",
    "        return v.dtype\n",
    "    else:\n",
    "        return type(v)\n",
    "\n",
    "def get_shape(v):\n",
    "    if is_array(v):\n",
    "        return v.shape\n",
    "    else:\n",
    "        return tuple()\n",
    "\n",
    "def is_array(v):\n",
    "    return isinstance(v, np.ndarray)\n",
    "\n",
    "def PBPS_x_scan(Scan_x_range,channels, numShots):\n",
    "        \n",
    "    scan_mean = []\n",
    "    scan_std = []\n",
    "    scan_all = []\n",
    "            \n",
    "    for pos in Scan_x_range:\n",
    "        set_PBPS_x(pos)  \n",
    "        data = PBPS_get_data(channels, numShots)\n",
    "        scan_mean.append([i.mean() for i in data])\n",
    "        scan_std.append([i.std() for i in data])\n",
    "        scan_all.append(data)\n",
    "    return(np.asarray(scan_mean), np.asarray(scan_std), np.asarray(scan_all))\n",
    "\n",
    "def PBPS_y_scan(Scan_y_range,channels, numShots):\n",
    "        \n",
    "    scan_mean = []\n",
    "    scan_std = []\n",
    "    scan_all = []\n",
    "            \n",
    "    for pos in Scan_y_range:\n",
    "        set_PBPS_y(pos)  \n",
    "        data = PBPS_get_data(channels, numShots)\n",
    "        scan_mean.append([i.mean() for i in data])\n",
    "        scan_std.append([i.std() for i in data])\n",
    "        scan_all.append(data)\n",
    "    return(np.asarray(scan_mean), np.asarray(scan_std), np.asarray(scan_all))\n",
    "\n",
    "def PBPS_I_calibrate(channels, numShots):\n",
    "        \n",
    "    scan_mean = []\n",
    "    scan_std = []\n",
    "    scan_all = []\n",
    "\n",
    "    data = PBPS_get_data(channels, numShots)\n",
    "    scan_mean.append([i.mean() for i in data])\n",
    "    scan_std.append([i.std() for i in data])\n",
    "    scan_all.append(data)\n",
    "    return(np.asarray(scan_mean), np.asarray(scan_std), np.asarray(scan_all))\n",
    "\n",
    "def lin_fit(x,m,a):\n",
    "    return m*x+a\n",
    "def fit(xdata,ydata):\n",
    "    popt, pcov = curve_fit(lin_fit, xdata, ydata)\n",
    "    return(popt)"
   ]
  },
  {
   "cell_type": "markdown",
   "metadata": {},
   "source": [
    "## User inputs"
   ]
  },
  {
   "cell_type": "code",
   "execution_count": 4,
   "metadata": {},
   "outputs": [],
   "source": [
    "numShots = 500\n",
    "Scan_x_range = np.linspace(-0.2,0.2,3)\n",
    "Scan_y_range = np.linspace(-0.2,0.2,3)"
   ]
  },
  {
   "cell_type": "markdown",
   "metadata": {},
   "source": [
    "## Calibrate diode response"
   ]
  },
  {
   "cell_type": "code",
   "execution_count": 5,
   "metadata": {},
   "outputs": [],
   "source": [
    "scan_I_mean,scan_I_std, scan_I_all = PBPS_I_calibrate(channels, numShots)\n",
    "norm_diodes = np.asarray([1 / tm / 4 for tm in scan_I_mean])"
   ]
  },
  {
   "cell_type": "markdown",
   "metadata": {},
   "source": [
    "## Measure position response"
   ]
  },
  {
   "cell_type": "code",
   "execution_count": 6,
   "metadata": {},
   "outputs": [],
   "source": [
    "scan_x_mean,scan_x_std, scan_x_data = PBPS_x_scan(Scan_x_range, channels, numShots)\n",
    "set_PBPS_x(0)"
   ]
  },
  {
   "cell_type": "code",
   "execution_count": 7,
   "metadata": {},
   "outputs": [],
   "source": [
    "scan_y_mean,scan_y_std, _ = PBPS_y_scan(Scan_y_range, channels, numShots)\n",
    "set_PBPS_y(0)"
   ]
  },
  {
   "cell_type": "markdown",
   "metadata": {},
   "source": [
    "## Calibrate"
   ]
  },
  {
   "cell_type": "code",
   "execution_count": 8,
   "metadata": {},
   "outputs": [],
   "source": [
    "scan_x_norm = (scan_x_mean[:,3]*norm_diodes[0,3]-scan_x_mean[:,2]*norm_diodes[0,2])/(scan_x_mean[:,3]*norm_diodes[0,3]+scan_x_mean[:,2]*norm_diodes[0,2])\n",
    "scan_y_norm = (scan_y_mean[:,1]*norm_diodes[0,1]-scan_y_mean[:,0]*norm_diodes[0,0])/(scan_y_mean[:,1]*norm_diodes[0,1]+scan_y_mean[:,0]*norm_diodes[0,0])\n"
   ]
  },
  {
   "cell_type": "code",
   "execution_count": 9,
   "metadata": {
    "scrolled": false
   },
   "outputs": [
    {
     "data": {
      "image/png": "[encoded data removed]",
      "text/plain": [
       "<Figure size 432x288 with 1 Axes>"
      ]
     },
     "metadata": {
      "needs_background": "light"
     },
     "output_type": "display_data"
    }
   ],
   "source": [
    "popt_norm_x = fit(Scan_x_range,scan_x_norm)\n",
    "plt.figure()\n",
    "plt.title('Horizontal response')\n",
    "plt.plot(Scan_x_range, scan_x_norm)\n",
    "plt.plot(Scan_x_range,lin_fit(Scan_x_range,*popt_norm_x))\n",
    "plt.xlabel(PBPS_x_PV_name)\n",
    "plt.ylabel(\"Ir-Il/Ir+Il\")\n",
    "plt.grid(True)"
   ]
  },
  {
   "cell_type": "code",
   "execution_count": 10,
   "metadata": {},
   "outputs": [
    {
     "data": {
      "image/png": "[encoded data removed]",
      "text/plain": [
       "<Figure size 432x288 with 1 Axes>"
      ]
     },
     "metadata": {
      "needs_background": "light"
     },
     "output_type": "display_data"
    }
   ],
   "source": [
    "popt_norm_y = fit(Scan_y_range,scan_y_norm)\n",
    "plt.figure()\n",
    "plt.title('Vertical response')\n",
    "plt.plot(Scan_y_range, scan_y_norm)\n",
    "plt.plot(Scan_y_range,lin_fit(Scan_y_range,*popt_norm_y))\n",
    "plt.xlabel(PBPS_y_PV_name)\n",
    "plt.ylabel(\"Iu-Id/Iu+Id\")\n",
    "plt.grid(True)"
   ]
  },
  {
   "cell_type": "markdown",
   "metadata": {},
   "source": [
    "## Push to calculation on IOC level"
   ]
  },
  {
   "cell_type": "code",
   "execution_count": 11,
   "metadata": {},
   "outputs": [
    {
     "data": {
      "text/plain": [
       "1"
      ]
     },
     "execution_count": 11,
     "metadata": {},
     "output_type": "execute_result"
    }
   ],
   "source": [
    "# Intensity\n",
    "# Set channels\n",
    "# Input data\n",
    "ep.PV(Devive_prefix+'INTENSITY.INPA').put(bytes(channels[0], \"utf8\"))\n",
    "ep.PV(Devive_prefix+'INTENSITY.INPB').put(bytes(channels[1], \"utf8\"))\n",
    "ep.PV(Devive_prefix+'INTENSITY.INPC').put(bytes(channels[2], \"utf8\"))\n",
    "ep.PV(Devive_prefix+'INTENSITY.INPD').put(bytes(channels[3], \"utf8\"))\n",
    "# Calibration values\n",
    "ep.PV(Devive_prefix+'INTENSITY.E').put(bytes(str(norm_diodes[0,0]), \"utf8\"))\n",
    "ep.PV(Devive_prefix+'INTENSITY.F').put(bytes(str(norm_diodes[0,1]), \"utf8\"))\n",
    "ep.PV(Devive_prefix+'INTENSITY.G').put(bytes(str(norm_diodes[0,2]), \"utf8\"))\n",
    "ep.PV(Devive_prefix+'INTENSITY.H').put(bytes(str(norm_diodes[0,3]), \"utf8\"))\n",
    "# Calculation\n",
    "ep.PV(Devive_prefix+'INTENSITY.CALC').put(bytes(\"A*E+B*F+C*G+D*H\", \"utf8\"))"
   ]
  },
  {
   "cell_type": "code",
   "execution_count": 12,
   "metadata": {},
   "outputs": [
    {
     "data": {
      "text/plain": [
       "1"
      ]
     },
     "execution_count": 12,
     "metadata": {},
     "output_type": "execute_result"
    }
   ],
   "source": [
    "# XPOS\n",
    "# Set channels\n",
    "ep.PV(Devive_prefix+'XPOS.INPA').put(bytes(channels[2], \"utf8\"))\n",
    "ep.PV(Devive_prefix+'XPOS.INPB').put(bytes(channels[3], \"utf8\"))\n",
    "# Threshold value\n",
    "ep.PV(Devive_prefix+'XPOS.D').put(bytes(str(0.2), \"utf8\"))\n",
    "# Diode calibration value\n",
    "ep.PV(Devive_prefix+'XPOS.E').put(bytes(str(norm_diodes[0,2]), \"utf8\"))\n",
    "ep.PV(Devive_prefix+'XPOS.F').put(bytes(str(norm_diodes[0,3]), \"utf8\"))\n",
    "# Null value\n",
    "ep.PV(Devive_prefix+'XPOS.G').put(bytes(str(0), \"utf8\"))\n",
    "# Position calibration value\n",
    "ep.PV(Devive_prefix+'XPOS.I').put(bytes(str((Scan_x_range[1]-Scan_x_range[0])/ np.diff(scan_x_norm).mean()), \"utf8\"))\n",
    "# Intensity threshold value\n",
    "ep.PV(Devive_prefix+'XPOS.INPJ').put(bytes(Devive_prefix+'INTENSITY', \"utf8\"))\n",
    "# Calculation\n",
    "ep.PV(Devive_prefix+'XPOS.CALC').put(bytes(\"J<D?G:I*(A*E-B*F)/(A*E+B*F)\", \"utf8\"))"
   ]
  },
  {
   "cell_type": "code",
   "execution_count": 13,
   "metadata": {},
   "outputs": [
    {
     "data": {
      "text/plain": [
       "1"
      ]
     },
     "execution_count": 13,
     "metadata": {},
     "output_type": "execute_result"
    }
   ],
   "source": [
    "# YPOS\n",
    "# Set channels\n",
    "ep.PV(Devive_prefix+'YPOS.INPA').put(bytes(channels[0], \"utf8\"))\n",
    "ep.PV(Devive_prefix+'YPOS.INPB').put(bytes(channels[1], \"utf8\"))\n",
    "# Threshold value\n",
    "ep.PV(Devive_prefix+'YPOS.D').put(bytes(str(0.2), \"utf8\"))\n",
    "# Diode calibration value\n",
    "ep.PV(Devive_prefix+'YPOS.E').put(bytes(str(norm_diodes[0,0]), \"utf8\"))\n",
    "ep.PV(Devive_prefix+'YPOS.F').put(bytes(str(norm_diodes[0,1]), \"utf8\"))\n",
    "# Null value\n",
    "ep.PV(Devive_prefix+'YPOS.G').put(bytes(str(0), \"utf8\"))\n",
    "# Position calibration value\n",
    "ep.PV(Devive_prefix+'YPOS.I').put(bytes(str((Scan_y_range[1]-Scan_y_range[0])/ np.diff(scan_y_norm).mean()), \"utf8\"))\n",
    "# Intensity threshold value\n",
    "ep.PV(Devive_prefix+'YPOS.INPJ').put(bytes(Devive_prefix+'INTENSITY', \"utf8\"))\n",
    "# Calculation\n",
    "ep.PV(Devive_prefix+'YPOS.CALC').put(bytes(\"J<D?G:I*(A*E-B*F)/(A*E+B*F)\", \"utf8\"))"
   ]
  },
  {
   "cell_type": "code",
   "execution_count": 16,
   "metadata": {},
   "outputs": [],
   "source": [
    "config_fn = \"/sf/photo/pipeline_cam_server/PBPS138/SAROP21-PBPS138_proc.json\"\n",
    "with open(config_fn, \"r\") as jsonFile:\n",
    "    data = json.load(jsonFile)\n",
    "data\n",
    "data[\"right_calib\"] = norm_diodes[0,2]\n",
    "data[\"left_calib\"] = norm_diodes[0,3]\n",
    "data[\"up_calib\"] = norm_diodes[0,1]\n",
    "data[\"down_calib\"] = norm_diodes[0,0]\n",
    "data[\"vert_calib\"] = (Scan_y_range[1]-Scan_y_range[0])/ np.diff(scan_y_norm).mean()\n",
    "data[\"horiz_calib\"] = (Scan_x_range[1]-Scan_x_range[0])/ np.diff(scan_x_norm).mean()\n",
    "\n",
    "with open(config_fn, \"w\") as jsonFile:\n",
    "    json.dump(data, jsonFile, indent=4)"
   ]
  },
  {
   "cell_type": "code",
   "execution_count": 17,
   "metadata": {},
   "outputs": [],
   "source": [
    "! python /sf/photo/pipeline_cam_server/PBPS138/update.py"
   ]
  },
  {
   "cell_type": "markdown",
   "metadata": {},
   "source": [
    "## Test scans\n",
    "### The purpose of the cells bellow is to scan the PBPS with the calibrated values.  The results can be seen in the data buffer ui here:\n",
    "[Vertical](https://ui-data-api.psi.ch/loadhash/2021-04-28/1a8990dccc058099cd5a9b489a8eff93d0f60e09951de79d968ad418970c35df)  \n",
    "[Horizontal](https://ui-data-api.psi.ch/loadhash/2021-04-28/7c6a0089aac77c84f099545739bf73d7427c457efc135df1a7f1a454710162c1)"
   ]
  },
  {
   "cell_type": "code",
   "execution_count": 21,
   "metadata": {},
   "outputs": [],
   "source": [
    "for pos in Scan_y_range:\n",
    "    set_PBPS_y(pos)\n",
    "    sleep(10)\n",
    "set_PBPS_y(0)"
   ]
  },
  {
   "cell_type": "code",
   "execution_count": 22,
   "metadata": {},
   "outputs": [],
   "source": [
    "for pos in Scan_x_range:\n",
    "    set_PBPS_x(pos)\n",
    "    sleep(10)\n",
    "set_PBPS_x(0)"
   ]
  }
 ],
 "metadata": {
  "kernelspec": {
   "display_name": "Python 3",
   "language": "python",
   "name": "python3"
  },
  "language_info": {
   "codemirror_mode": {
    "name": "ipython",
    "version": 3
   },
   "file_extension": ".py",
   "mimetype": "text/x-python",
   "name": "python",
   "nbconvert_exporter": "python",
   "pygments_lexer": "ipython3",
   "version": "3.6.8"
  }
 },
 "nbformat": 4,
 "nbformat_minor": 1
}
