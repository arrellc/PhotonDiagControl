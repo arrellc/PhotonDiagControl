{
 "cells": [
  {
   "cell_type": "markdown",
   "metadata": {},
   "source": [
    "# Script to calibrate the position data of PBPS113\n",
    "### Purpose: Short script to push position and diode intensity calibration values to online calculation\n",
    "Contact christopher.arrell@psi.ch"
   ]
  },
  {
   "cell_type": "markdown",
   "metadata": {},
   "source": [
    "## Setup and functions setup"
   ]
  },
  {
   "cell_type": "code",
   "execution_count": 2,
   "metadata": {},
   "outputs": [
    {
     "name": "stderr",
     "output_type": "stream",
     "text": [
      "In /sf/photo/miniconda/lib/python3.6/site-packages/matplotlib/mpl-data/stylelib/_classic_test.mplstyle: \n",
      "The savefig.frameon rcparam was deprecated in Matplotlib 3.1 and will be removed in 3.3.\n",
      "In /sf/photo/miniconda/lib/python3.6/site-packages/matplotlib/mpl-data/stylelib/_classic_test.mplstyle: \n",
      "The verbose.level rcparam was deprecated in Matplotlib 3.1 and will be removed in 3.3.\n",
      "In /sf/photo/miniconda/lib/python3.6/site-packages/matplotlib/mpl-data/stylelib/_classic_test.mplstyle: \n",
      "The verbose.fileo rcparam was deprecated in Matplotlib 3.1 and will be removed in 3.3.\n"
     ]
    }
   ],
   "source": [
    "import epics as ep\n",
    "from bsread import source\n",
    "import numpy as np\n",
    "import matplotlib.pyplot as plt\n",
    "from time import sleep\n",
    "from bsread import source\n",
    "from IPython.display import clear_output, display\n",
    "from scipy.optimize import curve_fit\n",
    "import json\n",
    "%matplotlib inline"
   ]
  },
  {
   "cell_type": "markdown",
   "metadata": {},
   "source": [
    "## User inputs"
   ]
  },
  {
   "cell_type": "code",
   "execution_count": 3,
   "metadata": {},
   "outputs": [],
   "source": [
    "numShots = 500\n",
    "Scan_x_range = np.linspace(-0.3,0.3,3)\n",
    "Scan_y_range = np.linspace(-0.3,0.3,3)"
   ]
  },
  {
   "cell_type": "code",
   "execution_count": 34,
   "metadata": {},
   "outputs": [],
   "source": [
    "channels = ['SAROP31-PBPS113:Lnk9Ch0-PP_VAL_PD0','SAROP31-PBPS113:Lnk9Ch0-PP_VAL_PD1','SAROP31-PBPS113:Lnk9Ch0-PP_VAL_PD2','SAROP31-PBPS113:Lnk9Ch0-PP_VAL_PD3']\n",
    "channel_names = ['Left','Up','Down','Right']\n",
    "\n",
    "Devive_prefix = \"SAROP31-PBPS113:\"\n",
    "\n",
    "PBPS_x_PV_name = Devive_prefix+'MOTOR_X1.VAL'\n",
    "PBPS_y_PV_name = Devive_prefix+'MOTOR_Y1.VAL'\n",
    "\n",
    "\n",
    "PBPS_x_PV = ep.PV(PBPS_x_PV_name)\n",
    "PBPS_y_PV = ep.PV(PBPS_y_PV_name)\n",
    "\n",
    "\n",
    "def set_PBPS_x(pos):\n",
    "    PBPS_x_PV.put(pos, wait=True)\n",
    "def set_PBPS_y(pos):\n",
    "    PBPS_y_PV.put(pos, wait=True)\n",
    "    \n",
    "def make_arrays(pvs, n_pulses):\n",
    "    arrays = []\n",
    "    for pv in pvs:\n",
    "        val = pv.value\n",
    "\n",
    "        dtype = get_dtype(val)\n",
    "        shape = get_shape(val)\n",
    "        shape = (n_pulses,) + shape\n",
    "\n",
    "        arr = np.empty(shape, dtype)\n",
    "        arrays.append(arr)\n",
    "\n",
    "    return arrays\n",
    "\n",
    "def PBPS_get_data(channels, n_pulses=100, wait_time=0.5):\n",
    "    pvs = [ep.PV(ch) for ch in channels]\n",
    "\n",
    "    n_channels = len(channels)\n",
    "    counters = np.zeros(n_channels, dtype=int)\n",
    "\n",
    "    arrays = make_arrays(pvs, n_pulses)\n",
    "\n",
    "\n",
    "    def on_value_change(pv=None, ichannel=None, value=None, **kwargs):\n",
    "        ivalue = counters[ichannel]\n",
    "        arrays[ichannel][ivalue] = value\n",
    "\n",
    "        counters[ichannel] += 1\n",
    "\n",
    "        if counters[ichannel] == n_pulses:\n",
    "            pv.clear_callbacks()\n",
    "\n",
    "\n",
    "    for i, pv in enumerate(pvs):\n",
    "        pv.add_callback(callback=on_value_change, pv=pv, ichannel=i)\n",
    "\n",
    "    while not np.all(counters == n_pulses):\n",
    "        sleep(wait_time)\n",
    "\n",
    "    return(arrays)\n",
    "\n",
    "def PBPS_get_data_bs(channels, n_pulses=100):\n",
    "    Down = []\n",
    "    Up = []\n",
    "    Right = []\n",
    "    Left = []\n",
    "    pulseID = []\n",
    "    horizontal = []\n",
    "    vertical = []\n",
    "\n",
    "    with source(channels=channels) as stream:\n",
    "        for i in range(0,n_pulses):\n",
    "            message = stream.receive()\n",
    "\n",
    "            tmp_Down = message.data.data[channels[0]].value\n",
    "            tmp_Up = message.data.data[channels[1]].value\n",
    "            tmp_Right = message.data.data[channels[2]].value\n",
    "            tmp_Left = message.data.data[channels[3]].value\n",
    "\n",
    "            if None in(tmp_Down,tmp_Up,tmp_Right, tmp_Left):\n",
    "                continue      \n",
    "            Down.append(tmp_Down)\n",
    "            Up.append(tmp_Up)\n",
    "            Right.append(tmp_Right)\n",
    "            Left.append(tmp_Left)\n",
    "            horizontal.append((tmp_Left-tmp_Right)/(tmp_Left+tmp_Right))\n",
    "            vertical.append((tmp_Up-tmp_Down)/(tmp_Up+tmp_Down))\n",
    "            pulseID.append(message.data.pulse_id)\n",
    "    arrays = np.zeros(shape = (1, 4, n_pulses))\n",
    "    arrays[0,0,:]= np.array(Down)\n",
    "    arrays[0,1,:]= np.array(Up)\n",
    "    arrays[0,2,:]= np.array(Right)\n",
    "    arrays[0,3,:]= np.array(Left)\n",
    "    return(arrays,np.asarray(horizontal), np.asarray(vertical))\n",
    "\n",
    "\n",
    "\n",
    "def get_dtype(v):\n",
    "    if is_array(v):\n",
    "        return v.dtype\n",
    "    else:\n",
    "        return type(v)\n",
    "\n",
    "def get_shape(v):\n",
    "    if is_array(v):\n",
    "        return v.shape\n",
    "    else:\n",
    "        return tuple()\n",
    "\n",
    "def is_array(v):\n",
    "    return isinstance(v, np.ndarray)\n",
    "\n",
    "def PBPS_x_scan(Scan_x_range,channels, numShots):\n",
    "        \n",
    "    scan_mean = []\n",
    "    scan_std = []\n",
    "    scan_all = []\n",
    "            \n",
    "    for pos in Scan_x_range:\n",
    "        set_PBPS_x(pos)  \n",
    "        data = PBPS_get_data(channels, numShots)\n",
    "        scan_mean.append([i.mean() for i in data])\n",
    "        scan_std.append([i.std() for i in data])\n",
    "        scan_all.append(data)\n",
    "    return(np.asarray(scan_mean), np.asarray(scan_std), np.asarray(scan_all))\n",
    "\n",
    "def PBPS_y_scan(Scan_y_range,channels, numShots):\n",
    "        \n",
    "    scan_mean = []\n",
    "    scan_std = []\n",
    "    scan_all = []\n",
    "            \n",
    "    for pos in Scan_y_range:\n",
    "        set_PBPS_y(pos)  \n",
    "        data = PBPS_get_data(channels, numShots)\n",
    "        scan_mean.append([i.mean() for i in data])\n",
    "        scan_std.append([i.std() for i in data])\n",
    "        scan_all.append(data)\n",
    "    return(np.asarray(scan_mean), np.asarray(scan_std), np.asarray(scan_all))\n",
    "\n",
    "def PBPS_I_calibrate(channels, numShots):\n",
    "        \n",
    "    scan_mean = []\n",
    "    scan_std = []\n",
    "    scan_all = []\n",
    "\n",
    "    data = PBPS_get_data(channels, numShots)\n",
    "    scan_mean.append([i.mean() for i in data])\n",
    "    scan_std.append([i.std() for i in data])\n",
    "    scan_all.append(data)\n",
    "    return(np.asarray(scan_mean), np.asarray(scan_std), np.asarray(scan_all))\n",
    "\n",
    "def lin_fit(x,m,a):\n",
    "    return m*x+a\n",
    "def fit(xdata,ydata):\n",
    "    popt, pcov = curve_fit(lin_fit, xdata, ydata)\n",
    "    return(popt)"
   ]
  },
  {
   "cell_type": "markdown",
   "metadata": {},
   "source": [
    "## Calibrate diode response"
   ]
  },
  {
   "cell_type": "code",
   "execution_count": 60,
   "metadata": {},
   "outputs": [],
   "source": [
    "scan_I_mean,scan_I_std, scan_I_all = PBPS_I_calibrate(channels, numShots)\n",
    "norm_diodes = np.asarray([1 / tm / 4 for tm in scan_I_mean])"
   ]
  },
  {
   "cell_type": "markdown",
   "metadata": {},
   "source": [
    "## Measure position response"
   ]
  },
  {
   "cell_type": "code",
   "execution_count": 61,
   "metadata": {},
   "outputs": [],
   "source": [
    "scan_x_mean,scan_x_std, scan_x_data = PBPS_x_scan(Scan_x_range, channels, numShots)\n",
    "set_PBPS_x(0)"
   ]
  },
  {
   "cell_type": "code",
   "execution_count": 62,
   "metadata": {},
   "outputs": [],
   "source": [
    "scan_y_mean,scan_y_std, _ = PBPS_y_scan(Scan_y_range, channels, numShots)\n",
    "set_PBPS_y(0)"
   ]
  },
  {
   "cell_type": "markdown",
   "metadata": {},
   "source": [
    "## Calibrate"
   ]
  },
  {
   "cell_type": "code",
   "execution_count": 63,
   "metadata": {},
   "outputs": [],
   "source": [
    "scan_x_norm = (scan_x_mean[:,3]*norm_diodes[0,3]-scan_x_mean[:,0]*norm_diodes[0,0])/(scan_x_mean[:,3]*norm_diodes[0,3]+scan_x_mean[:,0]*norm_diodes[0,0])\n",
    "scan_y_norm = (scan_y_mean[:,1]*norm_diodes[0,1]-scan_y_mean[:,2]*norm_diodes[0,2])/(scan_y_mean[:,1]*norm_diodes[0,1]+scan_y_mean[:,2]*norm_diodes[0,2])"
   ]
  },
  {
   "cell_type": "code",
   "execution_count": 64,
   "metadata": {
    "scrolled": false
   },
   "outputs": [
    {
     "data": {
      "image/png": "[encoded data removed]",
      "text/plain": [
       "<Figure size 432x288 with 1 Axes>"
      ]
     },
     "metadata": {
      "needs_background": "light"
     },
     "output_type": "display_data"
    }
   ],
   "source": [
    "popt_norm_x = fit(Scan_x_range,scan_x_norm)\n",
    "plt.figure()\n",
    "plt.title('Horizontal response')\n",
    "plt.plot(Scan_x_range, scan_x_norm)\n",
    "plt.plot(Scan_x_range,lin_fit(Scan_x_range,*popt_norm_x))\n",
    "plt.xlabel(PBPS_x_PV_name)\n",
    "plt.ylabel(\"Ir-Il/Ir+Il\")\n",
    "plt.grid(True)"
   ]
  },
  {
   "cell_type": "code",
   "execution_count": 65,
   "metadata": {},
   "outputs": [
    {
     "data": {
      "image/png": "[encoded data removed]",
      "text/plain": [
       "<Figure size 432x288 with 1 Axes>"
      ]
     },
     "metadata": {
      "needs_background": "light"
     },
     "output_type": "display_data"
    }
   ],
   "source": [
    "popt_norm_y = fit(Scan_y_range,scan_y_norm)\n",
    "plt.figure()\n",
    "plt.title('Vertical response')\n",
    "plt.plot(Scan_y_range, scan_y_norm)\n",
    "plt.plot(Scan_y_range,lin_fit(Scan_y_range,*popt_norm_y))\n",
    "plt.xlabel(PBPS_y_PV_name)\n",
    "plt.ylabel(\"Iu-Id/Iu+Id\")\n",
    "plt.grid(True)"
   ]
  },
  {
   "cell_type": "markdown",
   "metadata": {},
   "source": [
    "## Push position calibration to pipeline"
   ]
  },
  {
   "cell_type": "code",
   "execution_count": 66,
   "metadata": {},
   "outputs": [],
   "source": [
    "from cam_server import PipelineClient\n",
    "client = PipelineClient()\n",
    "import cam_server as cs\n",
    "pipeline_name = \"SAROP31-PBPS113_proc\""
   ]
  },
  {
   "cell_type": "code",
   "execution_count": 67,
   "metadata": {},
   "outputs": [
    {
     "data": {
      "text/plain": [
       "{'pipeline_type': 'stream',\n",
       " 'name': 'SAROP31-PBPS113_proc',\n",
       " 'bsread_address': '',\n",
       " 'bsread_channels': ['SAROP31-PBPS113:Lnk9Ch0-PP_VAL_PD0',\n",
       "  'SAROP31-PBPS113:Lnk9Ch0-PP_VAL_PD1',\n",
       "  'SAROP31-PBPS113:Lnk9Ch0-PP_VAL_PD2',\n",
       "  'SAROP31-PBPS113:Lnk9Ch0-PP_VAL_PD3'],\n",
       " 'mode': 'PUB',\n",
       " 'function': 'pbps.py',\n",
       " 'reload': True,\n",
       " 'no_client_timeout': 0,\n",
       " 'up': 'SAROP31-PBPS113:Lnk9Ch0-PP_VAL_PD1',\n",
       " 'down': 'SAROP31-PBPS113:Lnk9Ch0-PP_VAL_PD0',\n",
       " 'right': 'SAROP31-PBPS113:Lnk9Ch0-PP_VAL_PD2',\n",
       " 'left': 'SAROP31-PBPS113:Lnk9Ch0-PP_VAL_PD3',\n",
       " 'up_calib': 1.704419745841836e-07,\n",
       " 'down_calib': 3.058890860709756e-07,\n",
       " 'left_calib': 4.757973352745662e-07,\n",
       " 'right_calib': 1.7697316044728073e-07,\n",
       " 'horiz_calib': 40.848231825787515,\n",
       " 'vert_calib': 28.460028198458573,\n",
       " 'uJ_calib': 605.9512700123181,\n",
       " 'threshold': 0,\n",
       " 'queue_length': 5000,\n",
       " 'xpos_all_x_pvname': 'SAROP31-PBPS113:XPOS-ALL-HIST-X',\n",
       " 'xpos_all_y_pvname': 'SAROP31-PBPS113:XPOS-ALL-HIST-Y',\n",
       " 'xpos_all_m_pvname': 'SAROP31-PBPS113:XPOS-ALL-HIST-M',\n",
       " 'xpos_all_w_pvname': 'SAROP31-PBPS113:XPOS-ALL-HIST-W',\n",
       " 'ypos_all_x_pvname': 'SAROP31-PBPS113:YPOS-ALL-HIST-X',\n",
       " 'ypos_all_y_pvname': 'SAROP31-PBPS113:YPOS-ALL-HIST-Y',\n",
       " 'ypos_all_m_pvname': 'SAROP31-PBPS113:YPOS-ALL-HIST-M',\n",
       " 'ypos_all_w_pvname': 'SAROP31-PBPS113:YPOS-ALL-HIST-W',\n",
       " 'xpos_evn_x_pvname': 'SAROP31-PBPS113:XPOS-EVN-HIST-X',\n",
       " 'xpos_evn_y_pvname': 'SAROP31-PBPS113:XPOS-EVN-HIST-Y',\n",
       " 'xpos_evn_m_pvname': 'SAROP31-PBPS113:XPOS-EVN-HIST-M',\n",
       " 'xpos_evn_w_pvname': 'SAROP31-PBPS113:XPOS-EVN-HIST-W',\n",
       " 'ypos_evn_x_pvname': 'SAROP31-PBPS113:YPOS-EVN-HIST-X',\n",
       " 'ypos_evn_y_pvname': 'SAROP31-PBPS113:YPOS-EVN-HIST-Y',\n",
       " 'ypos_evn_m_pvname': 'SAROP31-PBPS113:YPOS-EVN-HIST-M',\n",
       " 'ypos_evn_w_pvname': 'SAROP31-PBPS113:YPOS-EVN-HIST-W',\n",
       " 'xpos_odd_x_pvname': 'SAROP31-PBPS113:XPOS-ODD-HIST-X',\n",
       " 'xpos_odd_y_pvname': 'SAROP31-PBPS113:XPOS-ODD-HIST-Y',\n",
       " 'xpos_odd_m_pvname': 'SAROP31-PBPS113:XPOS-ODD-HIST-M',\n",
       " 'xpos_odd_w_pvname': 'SAROP31-PBPS113:XPOS-ODD-HIST-W',\n",
       " 'ypos_odd_x_pvname': 'SAROP31-PBPS113:YPOS-ODD-HIST-X',\n",
       " 'ypos_odd_y_pvname': 'SAROP31-PBPS113:YPOS-ODD-HIST-Y',\n",
       " 'ypos_odd_m_pvname': 'SAROP31-PBPS113:YPOS-ODD-HIST-M',\n",
       " 'ypos_odd_w_pvname': 'SAROP31-PBPS113:YPOS-ODD-HIST-W',\n",
       " 'xpos_dif_m_pvname': 'SAROP31-PBPS113:XPOS-DIF-HIST-M',\n",
       " 'xpos_dif_w_pvname': 'SAROP31-PBPS113:XPOS-DIF-HIST-W',\n",
       " 'ypos_dif_m_pvname': 'SAROP31-PBPS113:YPOS-DIF-HIST-M',\n",
       " 'ypos_dif_w_pvname': 'SAROP31-PBPS113:YPOS-DIF-HIST-W',\n",
       " 'port': '9013'}"
      ]
     },
     "execution_count": 67,
     "metadata": {},
     "output_type": "execute_result"
    }
   ],
   "source": [
    "config = client.get_instance_config(pipeline_name)\n",
    "config[\"right_calib\"] = norm_diodes[0,2]\n",
    "config[\"left_calib\"] = norm_diodes[0,3]\n",
    "config[\"up_calib\"] = norm_diodes[0,1]\n",
    "config[\"down_calib\"] = norm_diodes[0,0]\n",
    "config[\"vert_calib\"] = (Scan_y_range[1]-Scan_y_range[0])/ np.diff(scan_y_norm).mean()\n",
    "config[\"horiz_calib\"] = (Scan_x_range[1]-Scan_x_range[0])/ np.diff(scan_x_norm).mean()\n",
    "config[\"queue_length\"] = 5000\n",
    "client.save_pipeline_config(pipeline_name, config)\n",
    "client.stop_instance(pipeline_name)"
   ]
  },
  {
   "cell_type": "markdown",
   "metadata": {},
   "source": [
    "## Calibrate PBPS intensity uj from slow signal"
   ]
  },
  {
   "cell_type": "code",
   "execution_count": 16,
   "metadata": {},
   "outputs": [],
   "source": [
    "int_calib_data = PBPS_get_data(channels=channels_int, n_pulses=20, wait_time=0.5)"
   ]
  },
  {
   "cell_type": "code",
   "execution_count": 17,
   "metadata": {},
   "outputs": [],
   "source": [
    "with open(config_fn, \"r\") as jsonFile:\n",
    "    data = json.load(jsonFile)\n",
    "data['uJ_calib'] = np.mean(int_calib_data[0])/np.mean(int_calib_data[1])\n",
    "with open(config_fn, \"w\") as jsonFile:\n",
    "    json.dump(data, jsonFile, indent=4)"
   ]
  },
  {
   "cell_type": "code",
   "execution_count": 18,
   "metadata": {},
   "outputs": [],
   "source": [
    "! python /sf/photo/pipeline_cam_server/PBPS053/update.py"
   ]
  },
  {
   "cell_type": "markdown",
   "metadata": {},
   "source": [
    "## Test scans\n",
    "### The purpose of the cells bellow is to scan the PBPS with the calibrated values.  The results can be seen in the data buffer ui here:\n",
    "[Vertical](https://ui-data-api.psi.ch/loadhash/2021-03-17/1448a54d65cc5f1ad6df5b2c14856bd826b040a220b98e579ccf91ce80af533d)  \n",
    "[Horizontal](https://ui-data-api.psi.ch/loadhash/2021-03-18/b46ddb065c9a7b46676413bc58ae002baddc9d4e8d94de4de5efea76ddc5912e)"
   ]
  },
  {
   "cell_type": "code",
   "execution_count": 19,
   "metadata": {},
   "outputs": [],
   "source": [
    "for pos in Scan_y_range:\n",
    "    set_PBPS_y(pos)\n",
    "    sleep(10)\n",
    "set_PBPS_y(0)"
   ]
  },
  {
   "cell_type": "code",
   "execution_count": 19,
   "metadata": {},
   "outputs": [],
   "source": [
    "for pos in Scan_x_range:\n",
    "    set_PBPS_x(pos)\n",
    "    sleep(10)\n",
    "set_PBPS_x(0)"
   ]
  }
 ],
 "metadata": {
  "kernelspec": {
   "display_name": "Python 3",
   "language": "python",
   "name": "python3"
  },
  "language_info": {
   "codemirror_mode": {
    "name": "ipython",
    "version": 3
   },
   "file_extension": ".py",
   "mimetype": "text/x-python",
   "name": "python",
   "nbconvert_exporter": "python",
   "pygments_lexer": "ipython3",
   "version": "3.6.8"
  }
 },
 "nbformat": 4,
 "nbformat_minor": 1
}
