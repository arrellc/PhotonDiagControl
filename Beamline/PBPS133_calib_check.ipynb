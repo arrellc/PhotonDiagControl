{
 "cells": [
  {
   "cell_type": "markdown",
   "metadata": {},
   "source": [
    "# Script to check calibration of PBPS133\n",
    "### Purpose: Short script scan PBPS133 positions once calibrated to check in databuffer\n",
    "Contact christopher.arrell@psi.ch"
   ]
  },
  {
   "cell_type": "code",
   "execution_count": 1,
   "metadata": {
    "collapsed": true
   },
   "outputs": [],
   "source": [
    "import epics as ep\n",
    "from bsread import source\n",
    "import numpy as np\n",
    "import matplotlib.pyplot as plt\n",
    "from time import sleep\n",
    "from bsread import source\n",
    "from IPython.display import clear_output, display\n",
    "from scipy.optimize import curve_fit\n",
    "%matplotlib inline"
   ]
  },
  {
   "cell_type": "markdown",
   "metadata": {},
   "source": [
    "## Setup and functions setup"
   ]
  },
  {
   "cell_type": "code",
   "execution_count": 4,
   "metadata": {
    "collapsed": true
   },
   "outputs": [],
   "source": [
    "channels = ['SAROP11-CVME-PBPS2:ght','Left']\n",
    "Devive_prefix = \"SAROP21-PBPS133:\"\n",
    "\n",
    "PBPS_x_PV_name = Devive_prefix+'MOTOR_X1.VAL'\n",
    "PBPS_y_PV_name = Devive_prefix+'MOTOR_Y1.VAL'\n",
    "\n",
    "PBPS_x_PV = ep.PV(PBPS_x_PV_name)\n",
    "PBPS_y_PV = ep.PV(PBPS_y_PV_name)\n",
    "\n",
    "\n",
    "def set_PBPS_x(pos):\n",
    "    PBPS_x_PV.put(pos, wait=True)\n",
    "def set_PBPS_y(pos):\n",
    "    PBPS_y_PV.put(pos, wait=True)"
   ]
  },
  {
   "cell_type": "markdown",
   "metadata": {},
   "source": [
    "## User inputs"
   ]
  },
  {
   "cell_type": "code",
   "execution_count": 3,
   "metadata": {
    "collapsed": true
   },
   "outputs": [],
   "source": [
    "waittime = 10 # in seconds\n",
    "Scan_x_range = np.linspace(-0.15,0.15,10)\n",
    "Scan_y_range = np.linspace(-0.15,0.15,10)"
   ]
  },
  {
   "cell_type": "markdown",
   "metadata": {},
   "source": [
    "## Test scans\n",
    "### The purpose of the cells bellow is to scan the PBPS with the calibrated values.  The results can be seen in the data buffer ui here:\n",
    "[Vertical](https://ui-data-api.psi.ch/loadhash/2021-03-17/1da61ec6433d9726cd76fb92a5ce6c7707429aa1815915891bf40f124f529bc6)  \n",
    "[Horizontal](https://ui-data-api.psi.ch/loadhash/2021-03-17/123ca6c0670638904964d091a7f4df1998f06437c06eab9eaf9190db8448384f)"
   ]
  },
  {
   "cell_type": "code",
   "execution_count": 7,
   "metadata": {
    "collapsed": true
   },
   "outputs": [],
   "source": [
    "for pos in Scan_y_range:\n",
    "    set_PBPS_y(pos)\n",
    "    sleep(waittime)\n",
    "set_PBPS_y(0)"
   ]
  },
  {
   "cell_type": "code",
   "execution_count": 6,
   "metadata": {
    "collapsed": true
   },
   "outputs": [],
   "source": [
    "for pos in Scan_x_range:\n",
    "    set_PBPS_x(pos)\n",
    "    sleep(waittime)\n",
    "set_PBPS_x(0)"
   ]
  }
 ],
 "metadata": {
  "kernelspec": {
   "display_name": "Python 3",
   "language": "python",
   "name": "python3"
  },
  "language_info": {
   "codemirror_mode": {
    "name": "ipython",
    "version": 3
   },
   "file_extension": ".py",
   "mimetype": "text/x-python",
   "name": "python",
   "nbconvert_exporter": "python",
   "pygments_lexer": "ipython3",
   "version": "3.5.1"
  }
 },
 "nbformat": 4,
 "nbformat_minor": 1
}
