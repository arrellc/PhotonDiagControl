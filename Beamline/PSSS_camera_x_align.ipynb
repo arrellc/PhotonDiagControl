{
 "cells": [
  {
   "cell_type": "markdown",
   "metadata": {},
   "source": [
    "# Script to scan the PSSS camera position\n",
    "### Purpose:\n",
    "To set or confirm the camera is positioned with the measured spectrum in the centre of the spectral integration window\n",
    "\n",
    "Contact christopher.arrell@psi.ch"
   ]
  },
  {
   "cell_type": "code",
   "execution_count": null,
   "metadata": {
    "collapsed": true
   },
   "outputs": [],
   "source": [
    "import epics as ep\n",
    "import numpy as np\n",
    "import matplotlib.pyplot as plt\n",
    "from time import sleep\n",
    "from collections import deque\n",
    "%matplotlib inline\n",
    "from IPython.display import clear_output, display"
   ]
  },
  {
   "cell_type": "markdown",
   "metadata": {},
   "source": [
    "## Setup and functions setup"
   ]
  },
  {
   "cell_type": "code",
   "execution_count": null,
   "metadata": {
    "collapsed": true
   },
   "outputs": [],
   "source": [
    "PSSS_spectrum_name = 'SARFE10-PSSS059:SPECTRUM_Y'\n",
    "PSSS_e_axis_name = 'SARFE10-PSSS059:SPECTRUM_X'\n",
    "PSSS_cam_x_PV_name = 'SARFE10-PSSS059:MOTOR_X5.VAL'\n",
    "\n",
    "PSSS_spectrum_PV = ep.PV(PSSS_spectrum_name)\n",
    "PSSS_e_axis_PV = ep.PV(PSSS_e_axis_name)\n",
    "PSSS_cam_x_PV = ep.PV(PSSS_cam_x_PV_name)\n",
    "\n",
    "def set_PSSS_camera_x(pos):\n",
    "    PSSS_cam_x_PV.put(pos, wait=True)\n",
    "\n",
    "def PSSS_camera_x_scan(Energy_range, NumShots):\n",
    "        \n",
    "    Spectrum_scan = []\n",
    "            \n",
    "    for pos in Cam_range:\n",
    "        set_PSSS_camera_x(pos)  \n",
    "           \n",
    "        Spectrum_this_energy = deque(maxlen = NumShots)\n",
    "        def on_value_change(value=None,pv = None, **kwargs):\n",
    "            Spectrum_this_energy.append(value)\n",
    "\n",
    "            if len(Spectrum_this_energy) == NumShots:\n",
    "                pv.clear_callbacks()\n",
    "                \n",
    "        PSSS_spectrum_PV.add_callback(callback=on_value_change, pv =PSSS_spectrum_PV)\n",
    "        while len(Spectrum_this_energy) < NumShots:\n",
    "            sleep(1)\n",
    "        Spectrum_scan.append(np.array(Spectrum_this_energy))\n",
    "        \n",
    "    return(np.array(Spectrum_scan))\n",
    "\n",
    "def gaus(x,a,x0,sigma,offset):\n",
    "    return offset +a*np.exp(-(x-x0)**2/(2*sigma**2))"
   ]
  },
  {
   "cell_type": "markdown",
   "metadata": {},
   "source": [
    "## User inputs - define travel range of camera\n",
    "It is unlikely these values need to be changed"
   ]
  },
  {
   "cell_type": "code",
   "execution_count": null,
   "metadata": {
    "collapsed": true
   },
   "outputs": [],
   "source": [
    "Cam_x_from = -22\n",
    "Cam_x_to = -15\n",
    "steps = 20\n",
    "NumShots= 100\n",
    "\n",
    "Cam_range = np.linspace(Cam_x_from, Cam_x_to, steps)"
   ]
  },
  {
   "cell_type": "markdown",
   "metadata": {},
   "source": [
    "## Scan and take data"
   ]
  },
  {
   "cell_type": "code",
   "execution_count": null,
   "metadata": {},
   "outputs": [],
   "source": [
    "Scan_spec = PSSS_camera_x_scan(Cam_range,NumShots)"
   ]
  },
  {
   "cell_type": "markdown",
   "metadata": {},
   "source": [
    "## Plot and return central position\n",
    "Note due to the integration ROI the projected signal should have hard edges"
   ]
  },
  {
   "cell_type": "code",
   "execution_count": null,
   "metadata": {},
   "outputs": [],
   "source": [
    "projection = Scan_spec.mean(axis=1).mean(axis=1)\n",
    "signal_centre = Cam_range[np.argmax(projection)]\n",
    "plt.figure(figsize=[10,5])\n",
    "plt.subplot(121)\n",
    "plt.title('PSSS scan of camera position')\n",
    "plt.pcolormesh(np.arange(0,Scan_spec.shape[2]), Cam_range, Scan_spec.mean(axis=1),cmap='CMRmap')\n",
    "plt.xlim([0,Scan_spec.shape[2]])\n",
    "plt.xlabel('Camera pixel dispersive direction')\n",
    "plt.ylabel('Set PSSS cam_x _pos [mm] \\n'+PSSS_cam_x_PV_name[0:-4])\n",
    "plt.subplot(122)\n",
    "plt.plot(projection,Cam_range,linewidth = 2, color = 'orange',label ='projected signal')\n",
    "plt.title('Spectrum centred at %.1f [mm] (from signal max) \\n trace should have hard edges'%signal_centre)\n",
    "plt.xticks([])\n",
    "plt.legend()\n",
    "plt.grid(True)"
   ]
  },
  {
   "cell_type": "markdown",
   "metadata": {},
   "source": [
    "## Set max position\n",
    "Cell below will push the maximum position to the PSSS camera"
   ]
  },
  {
   "cell_type": "code",
   "execution_count": null,
   "metadata": {
    "collapsed": true
   },
   "outputs": [],
   "source": [
    "set_PSSS_camera_x(signal_centre)"
   ]
  }
 ],
 "metadata": {
  "kernelspec": {
   "display_name": "Python 3",
   "language": "python",
   "name": "python3"
  },
  "language_info": {
   "codemirror_mode": {
    "name": "ipython",
    "version": 3
   },
   "file_extension": ".py",
   "mimetype": "text/x-python",
   "name": "python",
   "nbconvert_exporter": "python",
   "pygments_lexer": "ipython3",
   "version": "3.5.1"
  }
 },
 "nbformat": 4,
 "nbformat_minor": 1
}
