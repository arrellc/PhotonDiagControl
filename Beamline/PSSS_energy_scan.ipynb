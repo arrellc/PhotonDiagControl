{
 "cells": [
  {
   "cell_type": "markdown",
   "metadata": {},
   "source": [
    "# Script to scan the PSSS over a large energy range\n",
    "### Purpose: To allow the average photon spectrum to be measured over a larger range than the PSSS bandwidth\n",
    "Contact christopher.arrell@psi.ch"
   ]
  },
  {
   "cell_type": "code",
   "execution_count": 1,
   "metadata": {},
   "outputs": [],
   "source": [
    "import epics as ep\n",
    "import numpy as np\n",
    "import matplotlib.pyplot as plt\n",
    "from time import sleep\n",
    "from collections import deque\n",
    "from scipy.optimize import curve_fit\n",
    "%matplotlib inline\n",
    "from IPython.display import clear_output, display\n",
    "import h5py as h5\n",
    "from scipy.optimize import curve_fit"
   ]
  },
  {
   "cell_type": "markdown",
   "metadata": {},
   "source": [
    "## Setup and functions setup"
   ]
  },
  {
   "cell_type": "code",
   "execution_count": 46,
   "metadata": {},
   "outputs": [],
   "source": [
    "PSSS_energy_PV_name = 'SARFE10-PSSS059:ENERGY'\n",
    "PSSS_spectrum_name = 'SARFE10-PSSS059:SPECTRUM_Y'\n",
    "PSSS_e_axis_name = 'SARFE10-PSSS059:SPECTRUM_X'\n",
    "PSSS_cam_x_PV_name = 'SARFE10-PSSS059:MOTOR_X5.VAL'\n",
    "Energy_from_machine_PV_name = 'SARFE10-PBPG050:ENERGY'\n",
    "\n",
    "PSSS_energy_PV = ep.PV(PSSS_energy_PV_name)\n",
    "PSSS_spectrum_PV = ep.PV(PSSS_spectrum_name)\n",
    "PSSS_e_axis_PV = ep.PV(PSSS_e_axis_name)\n",
    "PSSS_cam_x_PV = ep.PV(PSSS_cam_x_PV_name)\n",
    "Energy_from_machine_PV = ep.PV(Energy_from_machine_PV_name)\n",
    "\n",
    "PSSS_e_axis = PSSS_e_axis_PV.get()\n",
    "\n",
    "def set_PSSS_energy(energy):\n",
    "    PSSS_energy_PV.put(energy, wait=True)\n",
    "    clear_output(wait=True)\n",
    "    ! python /ioc/modules/qt/PSSS_motion.py -m1 SARFE10-PSSS059\n",
    "    sleep(10)\n",
    "    print(energy)\n",
    "    \n",
    "def PSSS_energy_scan(Energy_range, NumShots):\n",
    "        \n",
    "    Spectrum_scan = []\n",
    "    e_axis_scan = []\n",
    "    \n",
    "    for energy in Energy_range:\n",
    "        set_PSSS_energy(energy)  \n",
    "           \n",
    "        Spectrum_this_energy = deque(maxlen = NumShots)\n",
    "        def on_value_change(value=None,pv = None, **kwargs):\n",
    "            Spectrum_this_energy.append(value)\n",
    "\n",
    "            if len(Spectrum_this_energy) == NumShots:\n",
    "                pv.clear_callbacks()\n",
    "                \n",
    "        PSSS_spectrum_PV.add_callback(callback=on_value_change, pv =PSSS_spectrum_PV)\n",
    "        while len(Spectrum_this_energy) < NumShots:\n",
    "            sleep(1)\n",
    "        Spectrum_scan.append(np.array(Spectrum_this_energy))\n",
    "        e_axis_scan.append(PSSS_e_axis_PV.get())\n",
    "    return(np.array(e_axis_scan),np.array(Spectrum_scan))\n",
    "\n",
    "def gaus(x,a,x0,sigma,offset):\n",
    "    return offset +a*np.exp(-(x-x0)**2/(2*sigma**2))\n",
    "\n",
    "def Spectra_bin(Scan_e_axis, e_axis_full, spectra):\n",
    "    digi = np.digitize(Scan_e_axis, e_axis_full)   \n",
    "    Spec_binned = []\n",
    "    for i in range(0,len(e_axis_full)):\n",
    "        ind = digi==i+1\n",
    "        Spec_binned.append(spectra[ind].mean(axis=0))\n",
    "    return np.asarray(Spec_binned)\n",
    "\n",
    "def gauss(x, H, A, x0, sigma):\n",
    "    return H + A * np.exp(-(x - x0) ** 2 / (2 * sigma ** 2))\n",
    "\n",
    "def bimodal(x, H_1, A_1, x0_1, sigma_1,H_2, A_2, x0_2, sigma_2):\n",
    "    return gauss(x, H_1, A_1, x0_1, sigma_1)+gauss(x, H_2, A_2, x0_2, sigma_2)\n",
    "\n",
    "def gauss_fit(x, y):\n",
    "    mean = sum(x * y) / sum(y)\n",
    "    sigma = np.sqrt(sum(y * (x - mean) ** 2) / sum(y))\n",
    "    popt, pcov = curve_fit(gauss, x, y, p0=[min(y), max(y), mean, sigma])\n",
    "    return popt\n",
    "\n",
    "def bimodal_fit(x, y):\n",
    "    mean = sum(x * y) / sum(y)\n",
    "    sigma = np.sqrt(sum(y * (x - mean) ** 2) / sum(y))\n",
    "    popt, pcov = curve_fit(bimodal, x, y, p0=[min(y), max(y), mean, sigma,min(y), max(y), mean, sigma])\n",
    "    return popt"
   ]
  },
  {
   "cell_type": "markdown",
   "metadata": {},
   "source": [
    "## User inputs - define energy range to scan "
   ]
  },
  {
   "cell_type": "markdown",
   "metadata": {},
   "source": [
    "Scan range"
   ]
  },
  {
   "cell_type": "code",
   "execution_count": 47,
   "metadata": {},
   "outputs": [],
   "source": [
    "E_from = 9950\n",
    "E_to = 10150\n",
    "steps = 7\n",
    "NumShots= 200\n",
    "Energy_range = np.linspace(E_from, E_to, steps)"
   ]
  },
  {
   "cell_type": "markdown",
   "metadata": {},
   "source": [
    "Only run the follow cell if you want to save in a single energy position"
   ]
  },
  {
   "cell_type": "code",
   "execution_count": 85,
   "metadata": {},
   "outputs": [],
   "source": [
    "E_from = 11330\n",
    "steps = 1\n",
    "NumShots= 1000\n",
    "Energy_range = np.linspace(E_from, E_to, steps)"
   ]
  },
  {
   "cell_type": "markdown",
   "metadata": {},
   "source": [
    "## Scan and take data"
   ]
  },
  {
   "cell_type": "code",
   "execution_count": 48,
   "metadata": {},
   "outputs": [
    {
     "name": "stdout",
     "output_type": "stream",
     "text": [
      "energy2motor: camArmRot: 36.846 cristBendRot: 19.0215 camPosX:-8.14231 evPerPix:0.03361\n",
      "PSSS_motion done.\n",
      "10150.0\n"
     ]
    }
   ],
   "source": [
    "set_PSSS_energy(Energy_range[0])\n",
    "sleep(10)\n",
    "Scan_e_axis, Scan_spec = PSSS_energy_scan(Energy_range,NumShots)"
   ]
  },
  {
   "cell_type": "markdown",
   "metadata": {},
   "source": [
    "## Bin data"
   ]
  },
  {
   "cell_type": "code",
   "execution_count": 49,
   "metadata": {},
   "outputs": [
    {
     "name": "stderr",
     "output_type": "stream",
     "text": [
      "/sf/photo/miniconda/lib/python3.6/site-packages/ipykernel_launcher.py:52: RuntimeWarning: Mean of empty slice.\n"
     ]
    }
   ],
   "source": [
    "e_axis_full = np.linspace(Scan_e_axis[0,0],Scan_e_axis[-1,-1],7000)\n",
    "\n",
    "Bin_spec = []\n",
    "for i in range(0, Scan_e_axis.shape[0]):\n",
    "    Bin_spec.append(Spectra_bin(Scan_e_axis[i,:], e_axis_full, Scan_spec[i,:].mean(axis=0)))\n",
    "Bin_spec = np.asarray(Bin_spec)\n",
    "\n",
    "Spec_range = np.nansum(Bin_spec,axis=0)"
   ]
  },
  {
   "cell_type": "markdown",
   "metadata": {},
   "source": [
    "## Save data"
   ]
  },
  {
   "cell_type": "code",
   "execution_count": 50,
   "metadata": {},
   "outputs": [],
   "source": [
    "folder = \"/sf/photo/two_colour_test/\"\n",
    "name = 'energy_scan_006.h5'"
   ]
  },
  {
   "cell_type": "code",
   "execution_count": 51,
   "metadata": {},
   "outputs": [],
   "source": [
    "with h5.File(folder+name, 'w-') as fh:\n",
    "    fh['Scan_e_axis'] = Scan_e_axis\n",
    "    fh['Scan_spec'] = Scan_spec\n",
    "    fh['Energy_range'] = Energy_range\n",
    "    fh['e_axis_full'] = e_axis_full\n",
    "    fh['Bin_spec'] = Bin_spec\n",
    "    fh['Spec_range'] = Spec_range    "
   ]
  },
  {
   "cell_type": "code",
   "execution_count": 53,
   "metadata": {},
   "outputs": [
    {
     "data": {
      "image/png": "[encoded data removed]",
      "text/plain": [
       "<Figure size 432x288 with 1 Axes>"
      ]
     },
     "metadata": {
      "needs_background": "light"
     },
     "output_type": "display_data"
    }
   ],
   "source": [
    "plt.figure()\n",
    "plt.title(name)\n",
    "plt.plot(e_axis_full,Spec_range/np.max(Spec_range))\n",
    "plt.grid(True)"
   ]
  },
  {
   "cell_type": "markdown",
   "metadata": {},
   "source": [
    "## Plot and return energy"
   ]
  },
  {
   "cell_type": "code",
   "execution_count": 37,
   "metadata": {},
   "outputs": [
    {
     "data": {
      "image/png": "[encoded data removed]",
      "text/plain": [
       "<Figure size 720x360 with 2 Axes>"
      ]
     },
     "metadata": {
      "needs_background": "light"
     },
     "output_type": "display_data"
    }
   ],
   "source": [
    "Energy_range_fit = np.linspace(Energy_range[0], Energy_range[-1], len(Energy_range)*10)\n",
    "centre_line_out = Scan_spec[:,:,int(Scan_spec.shape[2]/2)].mean(axis=1)\n",
    "try:\n",
    "    popt,pcov = curve_fit(gaus,Energy_range,centre_line_out,p0=[1,Energy_range[np.argmax(centre_line_out)],Energy_range.mean()*1e-3,1e3*NumShots])\n",
    "except:\n",
    "    print('Fit failed: spectrum might not be near scan range center')\n",
    "    popt = [0.0, 0.0, 0.0, 0.0]\n",
    "measured_offset = Energy_from_machine_PV.get() - popt[1]\n",
    "plt.figure(figsize=[10,5])\n",
    "plt.subplot(121)\n",
    "plt.title('PSSS scan of set photon energy')\n",
    "plt.pcolormesh(np.arange(0,Scan_spec.shape[2]), Energy_range, Scan_spec.mean(axis=1),cmap='CMRmap')\n",
    "plt.vlines(int(Scan_spec.shape[2]/2), Energy_range[0], Energy_range[-1],linestyles='--', colors='orange')\n",
    "plt.xlim([0,Scan_spec.shape[2]])\n",
    "plt.xlabel('Camera pixel')\n",
    "plt.ylabel('Set PSSS energy [eV] \\n SARFE10-PSSS059:ENERGY')\n",
    "\n",
    "plt.subplot(122)\n",
    "plt.title('At camera centre pixel %1i \\nCalibrated energy = %.1f [eV]\\n Offset from machine = %.1f [eV]'%(int(Scan_spec.shape[2]/2),popt[1],measured_offset))\n",
    "plt.plot(centre_line_out,Energy_range,linewidth = 2, color = 'orange',label ='measured')\n",
    "plt.plot(gaus(Energy_range_fit,*popt),Energy_range_fit,'r:',label='fit')\n",
    "plt.xticks([])\n",
    "plt.legend()\n",
    "plt.grid(True)\n"
   ]
  }
 ],
 "metadata": {
  "kernelspec": {
   "display_name": "Python 3",
   "language": "python",
   "name": "python3"
  },
  "language_info": {
   "codemirror_mode": {
    "name": "ipython",
    "version": 3
   },
   "file_extension": ".py",
   "mimetype": "text/x-python",
   "name": "python",
   "nbconvert_exporter": "python",
   "pygments_lexer": "ipython3",
   "version": "3.6.8"
  }
 },
 "nbformat": 4,
 "nbformat_minor": 1
}
